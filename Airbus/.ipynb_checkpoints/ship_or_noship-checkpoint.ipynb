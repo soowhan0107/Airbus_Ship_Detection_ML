{
 "cells": [
  {
   "cell_type": "code",
   "execution_count": 2,
   "metadata": {},
   "outputs": [],
   "source": [
    "import numpy as np\n",
    "import pandas as pd\n",
    "from skimage.data import imread\n",
    "import matplotlib.pyplot as plt"
   ]
  },
  {
   "cell_type": "code",
   "execution_count": 3,
   "metadata": {},
   "outputs": [
    {
     "name": "stdout",
     "output_type": "stream",
     "text": [
      "['test_v2', 'train_v2', '.ipynb_checkpoints', 'train_ship_segmentations_v2.csv']\n"
     ]
    }
   ],
   "source": [
    "import os\n",
    "print(os.listdir(\"../input\"))"
   ]
  },
  {
   "cell_type": "code",
   "execution_count": 4,
   "metadata": {},
   "outputs": [
    {
     "name": "stdout",
     "output_type": "stream",
     "text": [
      "192557\n",
      "15606\n"
     ]
    }
   ],
   "source": [
    "train_v2 = os.listdir('../input/train_v2')\n",
    "print(len(train_v2))\n",
    "\n",
    "test_v2 = os.listdir('../input/test_v2')\n",
    "print(len(test_v2))"
   ]
  },
  {
   "cell_type": "markdown",
   "metadata": {},
   "source": [
    "# Encoding f(x)"
   ]
  },
  {
   "cell_type": "code",
   "execution_count": 5,
   "metadata": {},
   "outputs": [],
   "source": [
    "def rle_encode(img):\n",
    "    '''\n",
    "    img: numpy array, 1 - mask, 0 - background\n",
    "    Returns run length as string formated\n",
    "    '''\n",
    "    pixels = img.T.flatten()\n",
    "    pixels = np.concatenate([[0], pixels, [0]])\n",
    "    runs = np.where(pixels[1:] != pixels[:-1])[0] + 1\n",
    "    runs[1::2] -= runs[::2]\n",
    "    return ' '.join(str(x) for x in runs)\n",
    "\n",
    "# ref: https://www.kaggle.com/paulorzp/run-length-encode-and-decode\n",
    "def rle_decode(mask_rle, shape=(768, 768)):\n",
    "    '''\n",
    "    mask_rle: run-length as string formated (start length)\n",
    "    shape: (height,width) of array to return \n",
    "    Returns numpy array, 1 - mask, 0 - background\n",
    "\n",
    "    '''\n",
    "    s = mask_rle.split()\n",
    "    starts, lengths = [np.asarray(x, dtype=int) for x in (s[0:][::2], s[1:][::2])]\n",
    "    starts -= 1\n",
    "    ends = starts + lengths\n",
    "    img = np.zeros(shape[0]*shape[1], dtype=np.float32)\n",
    "    for lo, hi in zip(starts, ends):\n",
    "        img[lo:hi] = 1\n",
    "    return img.reshape(shape).T  # Needed to align to RLE direction"
   ]
  },
  {
   "cell_type": "code",
   "execution_count": 12,
   "metadata": {},
   "outputs": [
    {
     "data": {
      "text/html": [
       "<div>\n",
       "<style scoped>\n",
       "    .dataframe tbody tr th:only-of-type {\n",
       "        vertical-align: middle;\n",
       "    }\n",
       "\n",
       "    .dataframe tbody tr th {\n",
       "        vertical-align: top;\n",
       "    }\n",
       "\n",
       "    .dataframe thead th {\n",
       "        text-align: right;\n",
       "    }\n",
       "</style>\n",
       "<table border=\"1\" class=\"dataframe\">\n",
       "  <thead>\n",
       "    <tr style=\"text-align: right;\">\n",
       "      <th></th>\n",
       "      <th>ImageId</th>\n",
       "      <th>EncodedPixels</th>\n",
       "    </tr>\n",
       "  </thead>\n",
       "  <tbody>\n",
       "    <tr>\n",
       "      <th>0</th>\n",
       "      <td>00003e153.jpg</td>\n",
       "      <td>NaN</td>\n",
       "    </tr>\n",
       "    <tr>\n",
       "      <th>1</th>\n",
       "      <td>0001124c7.jpg</td>\n",
       "      <td>NaN</td>\n",
       "    </tr>\n",
       "    <tr>\n",
       "      <th>2</th>\n",
       "      <td>000155de5.jpg</td>\n",
       "      <td>264661 17 265429 33 266197 33 266965 33 267733...</td>\n",
       "    </tr>\n",
       "    <tr>\n",
       "      <th>3</th>\n",
       "      <td>000194a2d.jpg</td>\n",
       "      <td>360486 1 361252 4 362019 5 362785 8 363552 10 ...</td>\n",
       "    </tr>\n",
       "    <tr>\n",
       "      <th>4</th>\n",
       "      <td>000194a2d.jpg</td>\n",
       "      <td>51834 9 52602 9 53370 9 54138 9 54906 9 55674 ...</td>\n",
       "    </tr>\n",
       "  </tbody>\n",
       "</table>\n",
       "</div>"
      ],
      "text/plain": [
       "         ImageId                                      EncodedPixels\n",
       "0  00003e153.jpg                                                NaN\n",
       "1  0001124c7.jpg                                                NaN\n",
       "2  000155de5.jpg  264661 17 265429 33 266197 33 266965 33 267733...\n",
       "3  000194a2d.jpg  360486 1 361252 4 362019 5 362785 8 363552 10 ...\n",
       "4  000194a2d.jpg  51834 9 52602 9 53370 9 54138 9 54906 9 55674 ..."
      ]
     },
     "execution_count": 12,
     "metadata": {},
     "output_type": "execute_result"
    }
   ],
   "source": [
    "masks = pd.read_csv('../input/train_ship_segmentations_v2.csv')\n",
    "masks.head()"
   ]
  },
  {
   "cell_type": "code",
   "execution_count": 13,
   "metadata": {},
   "outputs": [
    {
     "data": {
      "text/plain": [
       "str"
      ]
     },
     "execution_count": 13,
     "metadata": {},
     "output_type": "execute_result"
    }
   ],
   "source": [
    "type(masks['EncodedPixels'][3])"
   ]
  },
  {
   "cell_type": "code",
   "execution_count": 14,
   "metadata": {},
   "outputs": [
    {
     "data": {
      "text/html": [
       "<div>\n",
       "<style scoped>\n",
       "    .dataframe tbody tr th:only-of-type {\n",
       "        vertical-align: middle;\n",
       "    }\n",
       "\n",
       "    .dataframe tbody tr th {\n",
       "        vertical-align: top;\n",
       "    }\n",
       "\n",
       "    .dataframe thead th {\n",
       "        text-align: right;\n",
       "    }\n",
       "</style>\n",
       "<table border=\"1\" class=\"dataframe\">\n",
       "  <thead>\n",
       "    <tr style=\"text-align: right;\">\n",
       "      <th></th>\n",
       "      <th>ImageId</th>\n",
       "      <th>EncodedPixels</th>\n",
       "    </tr>\n",
       "  </thead>\n",
       "  <tbody>\n",
       "    <tr>\n",
       "      <th>0</th>\n",
       "      <td>00003e153.jpg</td>\n",
       "      <td>NaN</td>\n",
       "    </tr>\n",
       "    <tr>\n",
       "      <th>1</th>\n",
       "      <td>0001124c7.jpg</td>\n",
       "      <td>NaN</td>\n",
       "    </tr>\n",
       "    <tr>\n",
       "      <th>2</th>\n",
       "      <td>000155de5.jpg</td>\n",
       "      <td>264661 17 265429 33 266197 33 266965 33 267733...</td>\n",
       "    </tr>\n",
       "    <tr>\n",
       "      <th>3</th>\n",
       "      <td>000194a2d.jpg</td>\n",
       "      <td>360486 1 361252 4 362019 5 362785 8 363552 10 ...</td>\n",
       "    </tr>\n",
       "    <tr>\n",
       "      <th>4</th>\n",
       "      <td>000194a2d.jpg</td>\n",
       "      <td>51834 9 52602 9 53370 9 54138 9 54906 9 55674 ...</td>\n",
       "    </tr>\n",
       "  </tbody>\n",
       "</table>\n",
       "</div>"
      ],
      "text/plain": [
       "         ImageId                                      EncodedPixels\n",
       "0  00003e153.jpg                                                NaN\n",
       "1  0001124c7.jpg                                                NaN\n",
       "2  000155de5.jpg  264661 17 265429 33 266197 33 266965 33 267733...\n",
       "3  000194a2d.jpg  360486 1 361252 4 362019 5 362785 8 363552 10 ...\n",
       "4  000194a2d.jpg  51834 9 52602 9 53370 9 54138 9 54906 9 55674 ..."
      ]
     },
     "execution_count": 14,
     "metadata": {},
     "output_type": "execute_result"
    }
   ],
   "source": [
    "train = masks\n",
    "train.head()"
   ]
  },
  {
   "cell_type": "code",
   "execution_count": 15,
   "metadata": {},
   "outputs": [],
   "source": [
    "train['exist_ship'] = train['EncodedPixels'].fillna(0)\n",
    "train.loc[train['exist_ship']!=0, 'exist_ship']=1\n",
    "del train['EncodedPixels']"
   ]
  },
  {
   "cell_type": "code",
   "execution_count": 16,
   "metadata": {},
   "outputs": [
    {
     "data": {
      "text/html": [
       "<div>\n",
       "<style scoped>\n",
       "    .dataframe tbody tr th:only-of-type {\n",
       "        vertical-align: middle;\n",
       "    }\n",
       "\n",
       "    .dataframe tbody tr th {\n",
       "        vertical-align: top;\n",
       "    }\n",
       "\n",
       "    .dataframe thead th {\n",
       "        text-align: right;\n",
       "    }\n",
       "</style>\n",
       "<table border=\"1\" class=\"dataframe\">\n",
       "  <thead>\n",
       "    <tr style=\"text-align: right;\">\n",
       "      <th></th>\n",
       "      <th>ImageId</th>\n",
       "      <th>exist_ship</th>\n",
       "    </tr>\n",
       "  </thead>\n",
       "  <tbody>\n",
       "    <tr>\n",
       "      <th>0</th>\n",
       "      <td>00003e153.jpg</td>\n",
       "      <td>0</td>\n",
       "    </tr>\n",
       "    <tr>\n",
       "      <th>1</th>\n",
       "      <td>0001124c7.jpg</td>\n",
       "      <td>0</td>\n",
       "    </tr>\n",
       "    <tr>\n",
       "      <th>2</th>\n",
       "      <td>000155de5.jpg</td>\n",
       "      <td>1</td>\n",
       "    </tr>\n",
       "    <tr>\n",
       "      <th>3</th>\n",
       "      <td>000194a2d.jpg</td>\n",
       "      <td>1</td>\n",
       "    </tr>\n",
       "    <tr>\n",
       "      <th>4</th>\n",
       "      <td>000194a2d.jpg</td>\n",
       "      <td>1</td>\n",
       "    </tr>\n",
       "  </tbody>\n",
       "</table>\n",
       "</div>"
      ],
      "text/plain": [
       "         ImageId exist_ship\n",
       "0  00003e153.jpg          0\n",
       "1  0001124c7.jpg          0\n",
       "2  000155de5.jpg          1\n",
       "3  000194a2d.jpg          1\n",
       "4  000194a2d.jpg          1"
      ]
     },
     "execution_count": 16,
     "metadata": {},
     "output_type": "execute_result"
    }
   ],
   "source": [
    "train.head()"
   ]
  },
  {
   "cell_type": "code",
   "execution_count": 17,
   "metadata": {},
   "outputs": [
    {
     "name": "stdout",
     "output_type": "stream",
     "text": [
      "231723\n",
      "192556\n"
     ]
    }
   ],
   "source": [
    "print(len(train['ImageId']))\n",
    "print(train['ImageId'].value_counts().shape[0])\n",
    "train_gp = train.groupby('ImageId').sum().reset_index()\n",
    "train_gp.loc[train_gp['exist_ship']>0,'exist_ship']=1"
   ]
  },
  {
   "cell_type": "code",
   "execution_count": 18,
   "metadata": {},
   "outputs": [
    {
     "data": {
      "text/plain": [
       "192556"
      ]
     },
     "execution_count": 18,
     "metadata": {},
     "output_type": "execute_result"
    }
   ],
   "source": [
    "len(train_gp)"
   ]
  },
  {
   "cell_type": "code",
   "execution_count": 19,
   "metadata": {},
   "outputs": [
    {
     "data": {
      "text/html": [
       "<div>\n",
       "<style scoped>\n",
       "    .dataframe tbody tr th:only-of-type {\n",
       "        vertical-align: middle;\n",
       "    }\n",
       "\n",
       "    .dataframe tbody tr th {\n",
       "        vertical-align: top;\n",
       "    }\n",
       "\n",
       "    .dataframe thead th {\n",
       "        text-align: right;\n",
       "    }\n",
       "</style>\n",
       "<table border=\"1\" class=\"dataframe\">\n",
       "  <thead>\n",
       "    <tr style=\"text-align: right;\">\n",
       "      <th></th>\n",
       "      <th>ImageId</th>\n",
       "      <th>exist_ship</th>\n",
       "    </tr>\n",
       "  </thead>\n",
       "  <tbody>\n",
       "    <tr>\n",
       "      <th>0</th>\n",
       "      <td>00003e153.jpg</td>\n",
       "      <td>0</td>\n",
       "    </tr>\n",
       "    <tr>\n",
       "      <th>1</th>\n",
       "      <td>0001124c7.jpg</td>\n",
       "      <td>0</td>\n",
       "    </tr>\n",
       "    <tr>\n",
       "      <th>2</th>\n",
       "      <td>000155de5.jpg</td>\n",
       "      <td>1</td>\n",
       "    </tr>\n",
       "    <tr>\n",
       "      <th>3</th>\n",
       "      <td>000194a2d.jpg</td>\n",
       "      <td>1</td>\n",
       "    </tr>\n",
       "    <tr>\n",
       "      <th>4</th>\n",
       "      <td>0001b1832.jpg</td>\n",
       "      <td>0</td>\n",
       "    </tr>\n",
       "  </tbody>\n",
       "</table>\n",
       "</div>"
      ],
      "text/plain": [
       "         ImageId  exist_ship\n",
       "0  00003e153.jpg           0\n",
       "1  0001124c7.jpg           0\n",
       "2  000155de5.jpg           1\n",
       "3  000194a2d.jpg           1\n",
       "4  0001b1832.jpg           0"
      ]
     },
     "execution_count": 19,
     "metadata": {},
     "output_type": "execute_result"
    }
   ],
   "source": [
    "train_gp.head()"
   ]
  },
  {
   "cell_type": "code",
   "execution_count": 20,
   "metadata": {},
   "outputs": [
    {
     "name": "stdout",
     "output_type": "stream",
     "text": [
      "0    150000\n",
      "1     42556\n",
      "Name: exist_ship, dtype: int64\n"
     ]
    }
   ],
   "source": [
    "print(train_gp['exist_ship'].value_counts())\n",
    "train_gp= train_gp.sort_values(by='exist_ship')\n",
    "train_gp = train_gp.drop(train_gp.index[0:100000])"
   ]
  },
  {
   "cell_type": "code",
   "execution_count": 21,
   "metadata": {},
   "outputs": [
    {
     "name": "stdout",
     "output_type": "stream",
     "text": [
      "0    50000\n",
      "1    42556\n",
      "Name: exist_ship, dtype: int64\n"
     ]
    }
   ],
   "source": [
    "print(train_gp['exist_ship'].value_counts())"
   ]
  },
  {
   "cell_type": "markdown",
   "metadata": {},
   "source": [
    "# Sample"
   ]
  },
  {
   "cell_type": "code",
   "execution_count": 22,
   "metadata": {},
   "outputs": [
    {
     "name": "stdout",
     "output_type": "stream",
     "text": [
      "0    546\n",
      "1    454\n",
      "Name: exist_ship, dtype: int64\n",
      "(1000, 2)\n"
     ]
    }
   ],
   "source": [
    "train_sample = train_gp.sample(1000)\n",
    "print(train_sample['exist_ship'].value_counts())\n",
    "print (train_sample.shape)"
   ]
  },
  {
   "cell_type": "code",
   "execution_count": 23,
   "metadata": {},
   "outputs": [
    {
     "data": {
      "text/html": [
       "<div>\n",
       "<style scoped>\n",
       "    .dataframe tbody tr th:only-of-type {\n",
       "        vertical-align: middle;\n",
       "    }\n",
       "\n",
       "    .dataframe tbody tr th {\n",
       "        vertical-align: top;\n",
       "    }\n",
       "\n",
       "    .dataframe thead th {\n",
       "        text-align: right;\n",
       "    }\n",
       "</style>\n",
       "<table border=\"1\" class=\"dataframe\">\n",
       "  <thead>\n",
       "    <tr style=\"text-align: right;\">\n",
       "      <th></th>\n",
       "      <th>ImageId</th>\n",
       "      <th>exist_ship</th>\n",
       "    </tr>\n",
       "  </thead>\n",
       "  <tbody>\n",
       "    <tr>\n",
       "      <th>57631</th>\n",
       "      <td>4cd388767.jpg</td>\n",
       "      <td>0</td>\n",
       "    </tr>\n",
       "    <tr>\n",
       "      <th>62649</th>\n",
       "      <td>5370ebb1e.jpg</td>\n",
       "      <td>1</td>\n",
       "    </tr>\n",
       "    <tr>\n",
       "      <th>44217</th>\n",
       "      <td>3af77456c.jpg</td>\n",
       "      <td>1</td>\n",
       "    </tr>\n",
       "    <tr>\n",
       "      <th>4583</th>\n",
       "      <td>06200b850.jpg</td>\n",
       "      <td>0</td>\n",
       "    </tr>\n",
       "    <tr>\n",
       "      <th>49748</th>\n",
       "      <td>42385b882.jpg</td>\n",
       "      <td>1</td>\n",
       "    </tr>\n",
       "  </tbody>\n",
       "</table>\n",
       "</div>"
      ],
      "text/plain": [
       "             ImageId  exist_ship\n",
       "57631  4cd388767.jpg           0\n",
       "62649  5370ebb1e.jpg           1\n",
       "44217  3af77456c.jpg           1\n",
       "4583   06200b850.jpg           0\n",
       "49748  42385b882.jpg           1"
      ]
     },
     "execution_count": 23,
     "metadata": {},
     "output_type": "execute_result"
    }
   ],
   "source": [
    "train_sample.head()"
   ]
  },
  {
   "cell_type": "code",
   "execution_count": null,
   "metadata": {},
   "outputs": [],
   "source": []
  },
  {
   "cell_type": "markdown",
   "metadata": {},
   "source": [
    "* Train_path = '../input/train_v2/'\n",
    "* Test_path = '../input/test_v2/'"
   ]
  },
  {
   "cell_type": "markdown",
   "metadata": {},
   "source": [
    "# Resize Image"
   ]
  },
  {
   "cell_type": "code",
   "execution_count": 24,
   "metadata": {},
   "outputs": [
    {
     "name": "stderr",
     "output_type": "stream",
     "text": [
      "/usr/local/lib/python3.6/dist-packages/ipykernel_launcher.py:10: UserWarning: Boolean Series key will be reindexed to match DataFrame index.\n",
      "  # Remove the CWD from sys.path while we load stuff.\n"
     ]
    }
   ],
   "source": [
    "from PIL import Image\n",
    "data = np.empty((len(train_sample['ImageId']),256,256,3), dtype=np.float32)\n",
    "data_target = np.empty((len(train_sample['ImageId'])), dtype=np.int32)\n",
    "image_name_list = train_v2\n",
    "index = 0\n",
    "for image_name in image_name_list:\n",
    "    if image_name in list(train_sample['ImageId']):\n",
    "        imageA = Image.open('../input/train_v2/' + image_name).resize((256,256)).convert('RGB')\n",
    "        data[index]=imageA\n",
    "        data_target[index]=train_sample[train_gp['ImageId'].str.contains(image_name)]['exist_ship'].iloc[0]\n",
    "        index+=1"
   ]
  },
  {
   "cell_type": "code",
   "execution_count": 25,
   "metadata": {},
   "outputs": [
    {
     "name": "stdout",
     "output_type": "stream",
     "text": [
      "(1000, 256, 256, 3)\n",
      "(1000,)\n"
     ]
    }
   ],
   "source": [
    "print(data.shape)\n",
    "print(data_target.shape)"
   ]
  },
  {
   "cell_type": "code",
   "execution_count": 26,
   "metadata": {},
   "outputs": [
    {
     "data": {
      "text/plain": [
       "((800, 256, 256, 3), (200, 256, 256, 3), (800,), (200,))"
      ]
     },
     "execution_count": 26,
     "metadata": {},
     "output_type": "execute_result"
    }
   ],
   "source": [
    "from sklearn.model_selection import train_test_split\n",
    "x_train, x_val, y_train, y_val = train_test_split(data,data_target, test_size = 0.2)\n",
    "x_train.shape, x_val.shape, y_train.shape, y_val.shape"
   ]
  },
  {
   "cell_type": "code",
   "execution_count": 27,
   "metadata": {},
   "outputs": [
    {
     "ename": "NameError",
     "evalue": "name 'test_data' is not defined",
     "output_type": "error",
     "traceback": [
      "\u001b[0;31m---------------------------------------------------------------------------\u001b[0m",
      "\u001b[0;31mNameError\u001b[0m                                 Traceback (most recent call last)",
      "\u001b[0;32m<ipython-input-27-6d11f6909928>\u001b[0m in \u001b[0;36m<module>\u001b[0;34m\u001b[0m\n\u001b[1;32m     36\u001b[0m '''\n\u001b[1;32m     37\u001b[0m predict_input_fn = tf.estimator.inputs.numpy_input_fn(\n\u001b[0;32m---> 38\u001b[0;31m     \u001b[0mx\u001b[0m\u001b[0;34m=\u001b[0m\u001b[0;34m{\u001b[0m\u001b[0;34m'x'\u001b[0m\u001b[0;34m:\u001b[0m\u001b[0mtest_data\u001b[0m\u001b[0;34m}\u001b[0m\u001b[0;34m,\u001b[0m\u001b[0;34m\u001b[0m\u001b[0;34m\u001b[0m\u001b[0m\n\u001b[0m\u001b[1;32m     39\u001b[0m     \u001b[0mshuffle\u001b[0m\u001b[0;34m=\u001b[0m\u001b[0;32mFalse\u001b[0m\u001b[0;34m,\u001b[0m\u001b[0;34m\u001b[0m\u001b[0;34m\u001b[0m\u001b[0m\n\u001b[1;32m     40\u001b[0m     num_epochs=2)\n",
      "\u001b[0;31mNameError\u001b[0m: name 'test_data' is not defined"
     ]
    }
   ],
   "source": [
    "import tensorflow as tf\n",
    "'''\n",
    "x - according to the documentation I am passing a dictionary of my training features\n",
    "y - passing the training labels\n",
    "batch_size - how many images I want to pass to my NN in a single training step. \n",
    "             The gradients and the loss for the training step will be calculated only on these images. \n",
    "num_epochs - when I want to complete the execution of this method. With the current setting (1) \n",
    "             when the input function goes through all images once it will complete.\n",
    "shuffle    - do I want to read the images in order or no. It is a better strategy to \n",
    "             shuffle within the training images during training.\n",
    "'''\n",
    "train_input_fn = tf.estimator.inputs.numpy_input_fn(\n",
    "      x={'x':x_train},\n",
    "      y=y_train,\n",
    "      batch_size=20,\n",
    "      num_epochs=2,\n",
    "      shuffle=True)\n",
    "\n",
    "'''\n",
    "What the eval_input_fn will do with its current settings is to read the entire training dataset \n",
    "(in order) using batch_size of 128 (default setting). \n",
    "\n",
    "Keep in mind that it will also terminate when completes 1 epoch.\n",
    "'''\n",
    "eval_input_fn = tf.estimator.inputs.numpy_input_fn(\n",
    "    x={'x':x_val},\n",
    "    y=y_val,\n",
    "    shuffle=False,\n",
    "    num_epochs=2)\n",
    "\n"
   ]
  },
  {
   "cell_type": "code",
   "execution_count": null,
   "metadata": {},
   "outputs": [],
   "source": [
    "# test_data.shape"
   ]
  },
  {
   "cell_type": "code",
   "execution_count": null,
   "metadata": {},
   "outputs": [],
   "source": [
    "# test_data[400:].shape"
   ]
  },
  {
   "cell_type": "code",
   "execution_count": 28,
   "metadata": {},
   "outputs": [],
   "source": [
    "def cnn_model_function(features, labels, mode):\n",
    "    '''\n",
    "    This is the function which describes the structure of the neural network\n",
    "    '''\n",
    "    \n",
    "    # input layer\n",
    "    # reshaping x to 4-D tensor: [batch_size, width, height, channels]\n",
    "    # features['x'] - the dictionary we passed for x in the input functions\n",
    "    layer_1 = tf.reshape(features['x'], [-1, 256, 256, 3])\n",
    "    \n",
    "    # convolution layer 1\n",
    "    # computes 32 features using 10x10 filter with ReLU activation.\n",
    "    # input tensor: [batch_size, 256, 256, 3]\n",
    "    # output tensor: [batch_size, 256, 256, 32]\n",
    "    layer_2 = tf.layers.conv2d(                          \n",
    "                inputs=layer_1,\n",
    "                filters=10,\n",
    "                kernel_size=[10, 10],\n",
    "                padding=\"same\",\n",
    "                activation=tf.nn.relu)\n",
    "    \n",
    "    # convolution layer 2\n",
    "    # computes 32 features using 5x5 filter with ReLU activation.\n",
    "    # input tensor: [batch_size, 256, 256, 32]\n",
    "    # output tensor: [batch_size, 256, 256, 64]\n",
    "    layer_3 = tf.layers.conv2d(\n",
    "                inputs=layer_2,\n",
    "                filters=20,\n",
    "                kernel_size=[5, 5],\n",
    "                padding=\"same\",\n",
    "                activation=tf.nn.relu)\n",
    "    \n",
    "    # Flatten tensor into a batch of vectors\n",
    "    # Input Tensor Shape: [batch_size, 256, 256, 64]\n",
    "    # Output Tensor Shape: [batch_size, 256 * 256 * 64]\n",
    "    layer_4 = tf.reshape(layer_3, [-1, 256 * 256 * 20])\n",
    "    \n",
    "    # Dense Layer\n",
    "    # Densely connected layer with 1024 neurons\n",
    "    # Input Tensor Shape: [batch_size, 256 * 256 * 64]\n",
    "    # Output Tensor Shape: [batch_size, 1024]\n",
    "    layer_5 = tf.layers.dense(inputs=layer_4, units=20, activation=tf.nn.relu)\n",
    "    \n",
    "    # Dropout operation; 0.6 probability that element will be kept\n",
    "    # notice that this layer will perform droupout only during training!\n",
    "    layer_6 = tf.layers.dropout(inputs=layer_5, rate=0.4, training=(mode == tf.estimator.ModeKeys.TRAIN))\n",
    "    \n",
    "    # Logits layer\n",
    "    # Input Tensor Shape: [batch_size, 1024]\n",
    "    # Output Tensor Shape: [batch_size, 10]\n",
    "    logits = tf.layers.dense(inputs=layer_6, units=2)\n",
    "    \n",
    "    # define the values which our neural network will output\n",
    "    # classes - which number the NN 'thinks' is on the image\n",
    "    # probabilities - how certain our NN is about its prediction\n",
    "    predictions = {\n",
    "                \"classes\": tf.argmax(input=logits, axis=1),\n",
    "                \"probabilities\": tf.nn.softmax(logits, name=\"softmax_tensor\")\n",
    "    }\n",
    "    \n",
    "    # here we define what happens if we call the predict method of our estimator\n",
    "    # with the current settings it will return the dictionary defined above\n",
    "    if mode == tf.estimator.ModeKeys.PREDICT:\n",
    "        return tf.estimator.EstimatorSpec(mode=mode, predictions=predictions)\n",
    "    \n",
    "    # here we define the loss for our training (the thing we minimize)\n",
    "    # I do not need to perform one-hot-encoding to my training labels because the method\n",
    "    # sparse_softmax_cross_entropy will do that for me and I don't need to think about that\n",
    "    loss = tf.losses.sparse_softmax_cross_entropy(labels=labels, logits=logits)\n",
    "    \n",
    "    # here we define how we calculate our accuracy\n",
    "    # if you want to monitor your training accuracy you need these two lines\n",
    "    accuracy = tf.metrics.accuracy(labels=labels, predictions=predictions['classes'], name='acc_op')\n",
    "    tf.summary.scalar('accuracy', accuracy[1])\n",
    "    \n",
    "    # here we define what happens if we call the train method of our estimator\n",
    "    # with its current settings it will adjust the weights and biases of our neurons\n",
    "    # using the Adam Optimization Algorithm based on the loss function we defined earlier\n",
    "    if mode == tf.estimator.ModeKeys.TRAIN:\n",
    "        optimizer = tf.train.AdamOptimizer()\n",
    "        train_op = optimizer.minimize(\n",
    "            loss=loss,\n",
    "            global_step=tf.train.get_global_step())\n",
    "        tf.identity(accuracy[1], name='train_accuracy')\n",
    "        tf.summary.scalar('train_accuracy', accuracy[1])\n",
    "        eval_metric_ops = {\"train_accuracy\":accuracy}\n",
    "        return tf.estimator.EstimatorSpec(mode=mode, loss=loss, train_op=train_op, eval_metric_ops=eval_metric_ops)\n",
    "    \n",
    "    # what evaluation metric we want to show\n",
    "    tf.identity(accuracy[1], name='val_accuracy')\n",
    "    tf.summary.scalar('val_accuracy', accuracy[1])\n",
    "    eval_metric_ops = {'val_accuracy':accuracy}\n",
    "    # here we define what happens if we call the evaluate method of our estimator\n",
    "    # with its current settings it will display the loss and the accuracy which we defined earlier\n",
    "    return tf.estimator.EstimatorSpec(\n",
    "                mode=mode, loss=loss, eval_metric_ops=eval_metric_ops)"
   ]
  },
  {
   "cell_type": "code",
   "execution_count": 29,
   "metadata": {},
   "outputs": [],
   "source": [
    "tf.logging.set_verbosity(tf.logging.INFO)"
   ]
  },
  {
   "cell_type": "code",
   "execution_count": 30,
   "metadata": {},
   "outputs": [
    {
     "name": "stdout",
     "output_type": "stream",
     "text": [
      "INFO:tensorflow:Using default config.\n",
      "INFO:tensorflow:Using config: {'_model_dir': './CNN_CLASSIFIER', '_tf_random_seed': None, '_save_summary_steps': 100, '_save_checkpoints_steps': None, '_save_checkpoints_secs': 600, '_session_config': allow_soft_placement: true\n",
      "graph_options {\n",
      "  rewrite_options {\n",
      "    meta_optimizer_iterations: ONE\n",
      "  }\n",
      "}\n",
      ", '_keep_checkpoint_max': 5, '_keep_checkpoint_every_n_hours': 10000, '_log_step_count_steps': 100, '_train_distribute': None, '_device_fn': None, '_protocol': None, '_eval_distribute': None, '_experimental_distribute': None, '_service': None, '_cluster_spec': <tensorflow.python.training.server_lib.ClusterSpec object at 0x7fde5db0e0f0>, '_task_type': 'worker', '_task_id': 0, '_global_id_in_cluster': 0, '_master': '', '_evaluation_master': '', '_is_chief': True, '_num_ps_replicas': 0, '_num_worker_replicas': 1}\n",
      "WARNING:tensorflow:From /usr/local/lib/python3.6/dist-packages/tensorflow/python/estimator/inputs/queues/feeding_queue_runner.py:62: QueueRunner.__init__ (from tensorflow.python.training.queue_runner_impl) is deprecated and will be removed in a future version.\n",
      "Instructions for updating:\n",
      "To construct input pipelines, use the `tf.data` module.\n",
      "WARNING:tensorflow:From /usr/local/lib/python3.6/dist-packages/tensorflow/python/estimator/inputs/queues/feeding_functions.py:500: add_queue_runner (from tensorflow.python.training.queue_runner_impl) is deprecated and will be removed in a future version.\n",
      "Instructions for updating:\n",
      "To construct input pipelines, use the `tf.data` module.\n",
      "INFO:tensorflow:Calling model_fn.\n",
      "INFO:tensorflow:Done calling model_fn.\n",
      "INFO:tensorflow:Create CheckpointSaverHook.\n",
      "INFO:tensorflow:Graph was finalized.\n",
      "INFO:tensorflow:Restoring parameters from ./CNN_CLASSIFIER/model.ckpt-160\n",
      "INFO:tensorflow:Running local_init_op.\n",
      "INFO:tensorflow:Done running local_init_op.\n",
      "WARNING:tensorflow:From /usr/local/lib/python3.6/dist-packages/tensorflow/python/training/monitored_session.py:804: start_queue_runners (from tensorflow.python.training.queue_runner_impl) is deprecated and will be removed in a future version.\n",
      "Instructions for updating:\n",
      "To construct input pipelines, use the `tf.data` module.\n",
      "INFO:tensorflow:Saving checkpoints for 160 into ./CNN_CLASSIFIER/model.ckpt.\n",
      "INFO:tensorflow:loss = 0.6449288, step = 161\n",
      "INFO:tensorflow:Saving checkpoints for 240 into ./CNN_CLASSIFIER/model.ckpt.\n",
      "INFO:tensorflow:Loss for final step: 0.6091295.\n",
      "INFO:tensorflow:Calling model_fn.\n",
      "INFO:tensorflow:Done calling model_fn.\n",
      "INFO:tensorflow:Starting evaluation at 2018-11-09-02:14:29\n",
      "INFO:tensorflow:Graph was finalized.\n",
      "INFO:tensorflow:Restoring parameters from ./CNN_CLASSIFIER/model.ckpt-240\n",
      "INFO:tensorflow:Running local_init_op.\n",
      "INFO:tensorflow:Done running local_init_op.\n",
      "INFO:tensorflow:Finished evaluation at 2018-11-09-02:15:07\n",
      "INFO:tensorflow:Saving dict for global step 240: global_step = 240, loss = 1.0645926, val_accuracy = 0.63\n",
      "INFO:tensorflow:Saving 'checkpoint_path' summary for global step 240: ./CNN_CLASSIFIER/model.ckpt-240\n",
      "INFO:tensorflow:Calling model_fn.\n",
      "INFO:tensorflow:Done calling model_fn.\n",
      "INFO:tensorflow:Create CheckpointSaverHook.\n",
      "INFO:tensorflow:Graph was finalized.\n",
      "INFO:tensorflow:Restoring parameters from ./CNN_CLASSIFIER/model.ckpt-240\n",
      "INFO:tensorflow:Running local_init_op.\n",
      "INFO:tensorflow:Done running local_init_op.\n",
      "INFO:tensorflow:Saving checkpoints for 240 into ./CNN_CLASSIFIER/model.ckpt.\n",
      "INFO:tensorflow:loss = 0.62217766, step = 241\n",
      "INFO:tensorflow:Saving checkpoints for 320 into ./CNN_CLASSIFIER/model.ckpt.\n",
      "INFO:tensorflow:Loss for final step: 0.60464007.\n",
      "INFO:tensorflow:Calling model_fn.\n",
      "INFO:tensorflow:Done calling model_fn.\n",
      "INFO:tensorflow:Starting evaluation at 2018-11-09-02:20:50\n",
      "INFO:tensorflow:Graph was finalized.\n",
      "INFO:tensorflow:Restoring parameters from ./CNN_CLASSIFIER/model.ckpt-320\n",
      "INFO:tensorflow:Running local_init_op.\n",
      "INFO:tensorflow:Done running local_init_op.\n",
      "INFO:tensorflow:Finished evaluation at 2018-11-09-02:21:22\n",
      "INFO:tensorflow:Saving dict for global step 320: global_step = 320, loss = 1.0244913, val_accuracy = 0.64\n",
      "INFO:tensorflow:Saving 'checkpoint_path' summary for global step 320: ./CNN_CLASSIFIER/model.ckpt-320\n"
     ]
    }
   ],
   "source": [
    "# first we define a folder where tensorflow will keep its progress\n",
    "# this includes periodical saves of our weight, biases, accuracy, loss and etc.\n",
    "# so if we have more training images we can simply continue training on them\n",
    "OUTDIR = './CNN_CLASSIFIER'\n",
    "\n",
    "# we create an estimator object which:\n",
    "# - is using the Neural Net structure from the cnn_model_function\n",
    "# - reads/writes the files written in the directory which we defined earlier\n",
    "cnn_classifier = tf.estimator.Estimator(model_fn=cnn_model_function, model_dir=OUTDIR)\n",
    "\n",
    "# here we start the FileWriter method which will actually save the progress in the folder defined above\n",
    "file_writer = tf.summary.FileWriter(OUTDIR)\n",
    "\n",
    "# a small helper function which trains/evaluates our network for a given number of epochs\n",
    "# remember that our input functions go through the datasets only once\n",
    "def train_and_evaluate(estimator, epochs=2):\n",
    "    for i in range(epochs):\n",
    "        estimator.train(input_fn=train_input_fn)\n",
    "        estimator.evaluate(input_fn=eval_input_fn)\n",
    "\n",
    "# and here we finally start training/evaluating the NN for 30 epochs\n",
    "train_and_evaluate(cnn_classifier)"
   ]
  },
  {
   "cell_type": "code",
   "execution_count": 31,
   "metadata": {},
   "outputs": [
    {
     "name": "stdout",
     "output_type": "stream",
     "text": [
      "15606\n"
     ]
    },
    {
     "data": {
      "text/plain": [
       "int"
      ]
     },
     "execution_count": 31,
     "metadata": {},
     "output_type": "execute_result"
    }
   ],
   "source": [
    "test_v2 = os.listdir('../input/test_v2')\n",
    "print(len(test_v2))\n",
    "type(len(test_v2))"
   ]
  },
  {
   "cell_type": "code",
   "execution_count": 32,
   "metadata": {},
   "outputs": [
    {
     "data": {
      "text/plain": [
       "['1c1a63015.jpg',\n",
       " '05cf6c026.jpg',\n",
       " 'bd8405c05.jpg',\n",
       " '29b46cda8.jpg',\n",
       " '4d045477e.jpg',\n",
       " '6a89cb07d.jpg',\n",
       " '424c2975c.jpg',\n",
       " '6c806304f.jpg',\n",
       " '33ac2a0d2.jpg',\n",
       " '645d0d6a3.jpg',\n",
       " 'ce956ede4.jpg',\n",
       " 'e47ac9916.jpg',\n",
       " '8e742aecb.jpg',\n",
       " '008c483bb.jpg',\n",
       " 'c02ac596b.jpg',\n",
       " '89d98bbf6.jpg',\n",
       " 'b444632c3.jpg',\n",
       " '3a70351d7.jpg',\n",
       " '6330a080c.jpg',\n",
       " 'f722f7e40.jpg',\n",
       " '4b0d2ef40.jpg',\n",
       " 'f8ba009ea.jpg',\n",
       " '788d0d70c.jpg',\n",
       " 'bd0d6b7ae.jpg',\n",
       " '6f478812c.jpg',\n",
       " '5f1b4de7e.jpg',\n",
       " 'be7e17e7b.jpg',\n",
       " '57390298a.jpg',\n",
       " 'c4c66116c.jpg',\n",
       " 'b39602bd5.jpg',\n",
       " '245a951b8.jpg',\n",
       " 'f114f9f50.jpg',\n",
       " '5fbe0b3f3.jpg',\n",
       " 'db1f06b0e.jpg',\n",
       " 'e082d0bad.jpg',\n",
       " '301b7b2dd.jpg',\n",
       " '657a21d32.jpg',\n",
       " '13636f237.jpg',\n",
       " '5953fff18.jpg',\n",
       " 'a30860721.jpg',\n",
       " '2eeb91646.jpg',\n",
       " '7139352d1.jpg',\n",
       " '92bf43c62.jpg',\n",
       " 'c590636e2.jpg',\n",
       " 'fdd5965bd.jpg',\n",
       " '91f10125a.jpg',\n",
       " '262880650.jpg',\n",
       " '2b55dfb65.jpg',\n",
       " '87de8d18f.jpg',\n",
       " '0afa70103.jpg',\n",
       " '30166a9b0.jpg',\n",
       " 'b380aecee.jpg',\n",
       " '936daf7bb.jpg',\n",
       " '9ef535c1e.jpg',\n",
       " 'd0a337b7f.jpg',\n",
       " 'd65339a1a.jpg',\n",
       " 'a41ad0dd3.jpg',\n",
       " 'aa98a26ca.jpg',\n",
       " '31462de02.jpg',\n",
       " '7671ec353.jpg',\n",
       " 'fbc3958eb.jpg',\n",
       " 'b6a96f718.jpg',\n",
       " '3497f4f4d.jpg',\n",
       " '8d671af40.jpg',\n",
       " 'af5963e9d.jpg',\n",
       " 'a4f2d1119.jpg',\n",
       " '587f4df78.jpg',\n",
       " '01b485e3c.jpg',\n",
       " '891b7ba4f.jpg',\n",
       " '7b724ddaf.jpg',\n",
       " '10a8fbd44.jpg',\n",
       " 'f16c96edd.jpg',\n",
       " '9936c45c5.jpg',\n",
       " '3bb66af00.jpg',\n",
       " 'b4b891d74.jpg',\n",
       " '01e19ad63.jpg',\n",
       " '4313bf92a.jpg',\n",
       " '05a289307.jpg',\n",
       " '683422b67.jpg',\n",
       " '91ea74750.jpg',\n",
       " 'b6a55cdfa.jpg',\n",
       " '12800345d.jpg',\n",
       " '99b71e684.jpg',\n",
       " 'ab2893331.jpg',\n",
       " 'c806a448a.jpg',\n",
       " '64a6e5492.jpg',\n",
       " '52ffabbb6.jpg',\n",
       " 'fb8e46be0.jpg',\n",
       " '747d3ecd4.jpg',\n",
       " 'd36a3fcfb.jpg',\n",
       " 'd29f71fa1.jpg',\n",
       " '4d53be184.jpg',\n",
       " 'a056ba344.jpg',\n",
       " '53056035b.jpg',\n",
       " '9551bad19.jpg',\n",
       " '17f4ada18.jpg',\n",
       " '3e8d93dee.jpg',\n",
       " 'fe100b1fa.jpg',\n",
       " '060f73306.jpg',\n",
       " '22944b569.jpg',\n",
       " '9bd6364fd.jpg',\n",
       " '327142e7c.jpg',\n",
       " '2e2e4c152.jpg',\n",
       " '87179c067.jpg',\n",
       " 'e7022c2d6.jpg',\n",
       " 'b34c3f240.jpg',\n",
       " '13955c831.jpg',\n",
       " 'a1e581cb0.jpg',\n",
       " '8af3a2c75.jpg',\n",
       " 'c7943c27f.jpg',\n",
       " 'b0687a7e1.jpg',\n",
       " 'e2987f260.jpg',\n",
       " '0818ad85f.jpg',\n",
       " '10c66c239.jpg',\n",
       " 'd1ec8ce3d.jpg',\n",
       " 'd33adaec9.jpg',\n",
       " 'ffd1c8b6e.jpg',\n",
       " 'fe2b7935a.jpg',\n",
       " '19213f33c.jpg',\n",
       " 'deab93333.jpg',\n",
       " '54623a9c7.jpg',\n",
       " '8cd03ab75.jpg',\n",
       " '8e39008ae.jpg',\n",
       " '48b44a5f9.jpg',\n",
       " '35555f2e1.jpg',\n",
       " '00ad3807a.jpg',\n",
       " '2fad89b29.jpg',\n",
       " 'f577c08b6.jpg',\n",
       " '170359e4f.jpg',\n",
       " '53b60390a.jpg',\n",
       " 'ebfd61697.jpg',\n",
       " 'db65e786c.jpg',\n",
       " '1a3476b0f.jpg',\n",
       " 'c08481b15.jpg',\n",
       " '3ac14d6e9.jpg',\n",
       " '206f18632.jpg',\n",
       " '6f1c5e4be.jpg',\n",
       " 'ca0aa9e0d.jpg',\n",
       " 'a5c9ae5de.jpg',\n",
       " '5cf74d4d6.jpg',\n",
       " '7e7b4f8ca.jpg',\n",
       " '240285593.jpg',\n",
       " 'f9ad9790f.jpg',\n",
       " 'de9e50314.jpg',\n",
       " 'ef6ae443b.jpg',\n",
       " '76dce0c21.jpg',\n",
       " '525e24a67.jpg',\n",
       " '818d35374.jpg',\n",
       " 'e20f3c901.jpg',\n",
       " '7431cff56.jpg',\n",
       " '9d740a3d8.jpg',\n",
       " '75085a056.jpg',\n",
       " '29b804d56.jpg',\n",
       " '177461257.jpg',\n",
       " '12454a4f3.jpg',\n",
       " 'bebfc5806.jpg',\n",
       " 'dce52ac17.jpg',\n",
       " 'fdee40828.jpg',\n",
       " 'd28f0f768.jpg',\n",
       " '72bada539.jpg',\n",
       " '2a268fb3a.jpg',\n",
       " '7d298013a.jpg',\n",
       " 'e9355b1bd.jpg',\n",
       " 'dc8f7fdb1.jpg',\n",
       " '03c709c6b.jpg',\n",
       " '9e31585eb.jpg',\n",
       " '80e4a4cb4.jpg',\n",
       " '0e0fb75c9.jpg',\n",
       " '901476888.jpg',\n",
       " '44743bf79.jpg',\n",
       " '88c16f0f0.jpg',\n",
       " '42571aff5.jpg',\n",
       " 'eb8128271.jpg',\n",
       " '7272882ed.jpg',\n",
       " '668056ba3.jpg',\n",
       " '37893d82e.jpg',\n",
       " '2739703b6.jpg',\n",
       " 'f4f0be523.jpg',\n",
       " 'ab81c58dc.jpg',\n",
       " '08a72e9f4.jpg',\n",
       " '9a289e181.jpg',\n",
       " '320c64db1.jpg',\n",
       " '8efab2692.jpg',\n",
       " '730a9924c.jpg',\n",
       " '054cf6a63.jpg',\n",
       " '8fe78a85b.jpg',\n",
       " 'acfa9be77.jpg',\n",
       " 'e48e6f09d.jpg',\n",
       " 'feffb2fc9.jpg',\n",
       " '7785106c8.jpg',\n",
       " '2b3123088.jpg',\n",
       " 'b38827827.jpg',\n",
       " 'efd027921.jpg',\n",
       " '0e6c08b44.jpg',\n",
       " 'c813c54b2.jpg',\n",
       " 'a62706a96.jpg',\n",
       " '616d18d85.jpg',\n",
       " 'de53659b7.jpg',\n",
       " '5f4383602.jpg',\n",
       " 'ee191e94f.jpg',\n",
       " 'c514c7304.jpg',\n",
       " 'b6529fbe4.jpg',\n",
       " '99ea7451f.jpg',\n",
       " '6365a4b2b.jpg',\n",
       " 'e9da47d56.jpg',\n",
       " '24dd4aa2b.jpg',\n",
       " '966ac05bb.jpg',\n",
       " '5bc76f78f.jpg',\n",
       " '04a7c2200.jpg',\n",
       " 'aefa707bc.jpg',\n",
       " 'c5ccf9625.jpg',\n",
       " 'de27a15b2.jpg',\n",
       " '3c99dce45.jpg',\n",
       " '728c05e6d.jpg',\n",
       " '12a0acfc0.jpg',\n",
       " '153ffcaae.jpg',\n",
       " '9716204f3.jpg',\n",
       " '01e9ff827.jpg',\n",
       " '19f95d3a2.jpg',\n",
       " '90da90721.jpg',\n",
       " '8329f6266.jpg',\n",
       " 'ce29d7876.jpg',\n",
       " '578f857b8.jpg',\n",
       " '2070facb4.jpg',\n",
       " '3e107b9d7.jpg',\n",
       " 'db4ef915e.jpg',\n",
       " 'b7c7be92a.jpg',\n",
       " '99bc6e592.jpg',\n",
       " 'd63efb1cc.jpg',\n",
       " '0b31a1eb1.jpg',\n",
       " '41681c2b1.jpg',\n",
       " '04fd4737d.jpg',\n",
       " '8a8693fc5.jpg',\n",
       " '527559e55.jpg',\n",
       " 'aebea6062.jpg',\n",
       " 'a918c7e88.jpg',\n",
       " 'f619fa8f2.jpg',\n",
       " '13f0a27fa.jpg',\n",
       " 'bbffb7ba0.jpg',\n",
       " 'c76d7da89.jpg',\n",
       " '782ad000a.jpg',\n",
       " '36c4572d8.jpg',\n",
       " '8e8b720d5.jpg',\n",
       " '1172e30e1.jpg',\n",
       " '04c4ebbcf.jpg',\n",
       " 'baa31429d.jpg',\n",
       " '04ed9dfff.jpg',\n",
       " '46d9cb716.jpg',\n",
       " '9f41e8333.jpg',\n",
       " '2b3c5bb45.jpg',\n",
       " '06f8cd0f9.jpg',\n",
       " '524771a76.jpg',\n",
       " '516715806.jpg',\n",
       " 'cb8273ad9.jpg',\n",
       " '704aea15c.jpg',\n",
       " 'da6084af7.jpg',\n",
       " '9532cebbe.jpg',\n",
       " '7b5ddf8a5.jpg',\n",
       " '7a90a6fe2.jpg',\n",
       " '0fc51b35a.jpg',\n",
       " '02a05e80d.jpg',\n",
       " 'cce0edd6b.jpg',\n",
       " '21352eff9.jpg',\n",
       " '631eb3785.jpg',\n",
       " 'a1f275013.jpg',\n",
       " 'f4314824a.jpg',\n",
       " '17b488a9a.jpg',\n",
       " 'e7df2e92b.jpg',\n",
       " 'aeb1dbf9d.jpg',\n",
       " '45d43380c.jpg',\n",
       " '4d2a7b1cf.jpg',\n",
       " 'f3745bf01.jpg',\n",
       " '360a20718.jpg',\n",
       " '508221627.jpg',\n",
       " '8baf3d536.jpg',\n",
       " '7262b91cd.jpg',\n",
       " 'e25e509d0.jpg',\n",
       " '585fe6cf5.jpg',\n",
       " '9e6b61c09.jpg',\n",
       " '9e0d566fd.jpg',\n",
       " '31b64a26e.jpg',\n",
       " '7262e62f9.jpg',\n",
       " '52c74fb45.jpg',\n",
       " '43c4db91a.jpg',\n",
       " '466713d4b.jpg',\n",
       " '1c7d4f796.jpg',\n",
       " '3cecc16d1.jpg',\n",
       " '8d5a37213.jpg',\n",
       " '773ad8f6d.jpg',\n",
       " 'a153c9eb1.jpg',\n",
       " '34359d76f.jpg',\n",
       " 'e7ee8db9e.jpg',\n",
       " '05b4322ac.jpg',\n",
       " 'a1be71d4e.jpg',\n",
       " '11b53da90.jpg',\n",
       " '8dc44cc01.jpg',\n",
       " 'f9f9bf21c.jpg',\n",
       " '85af3beb0.jpg',\n",
       " 'e05821ba5.jpg',\n",
       " '00a3a9d72.jpg',\n",
       " '9a357321a.jpg',\n",
       " 'f9a0d91fe.jpg',\n",
       " '125d48a93.jpg',\n",
       " 'd68ec4e27.jpg',\n",
       " 'd0092b43a.jpg',\n",
       " 'c21aedbbd.jpg',\n",
       " '726c365a4.jpg',\n",
       " '286ae94f7.jpg',\n",
       " '06dcabc0c.jpg',\n",
       " 'fc0fcd108.jpg',\n",
       " '9b05740a0.jpg',\n",
       " 'aa6813735.jpg',\n",
       " '78cb30952.jpg',\n",
       " '567d80b78.jpg',\n",
       " '33c0f32f9.jpg',\n",
       " 'b4b3caa34.jpg',\n",
       " '0ffa6cbac.jpg',\n",
       " 'f27655f7d.jpg',\n",
       " '48ca6d777.jpg',\n",
       " 'b43b461c8.jpg',\n",
       " '14a529b24.jpg',\n",
       " 'ab9b8f961.jpg',\n",
       " '7e7465d36.jpg',\n",
       " 'ead24cbda.jpg',\n",
       " 'a469b4c5e.jpg',\n",
       " '8cb1f70c8.jpg',\n",
       " '5af76e184.jpg',\n",
       " '95de2b43a.jpg',\n",
       " '982f81991.jpg',\n",
       " 'd4f3c6bbf.jpg',\n",
       " '5314e3424.jpg',\n",
       " '36f26f839.jpg',\n",
       " 'e3bd46bee.jpg',\n",
       " '73b345b1a.jpg',\n",
       " '6a3b9020b.jpg',\n",
       " '27d6c2cba.jpg',\n",
       " 'de8a61983.jpg',\n",
       " '0342a123a.jpg',\n",
       " '3b8adc300.jpg',\n",
       " '3a1539086.jpg',\n",
       " 'cba9c74c7.jpg',\n",
       " '8214ff777.jpg',\n",
       " '1afe78331.jpg',\n",
       " '4afbc9d9e.jpg',\n",
       " '1e748754b.jpg',\n",
       " '5f5745f05.jpg',\n",
       " 'b81003adf.jpg',\n",
       " '2f213a8f7.jpg',\n",
       " 'fd8823777.jpg',\n",
       " '458516ed1.jpg',\n",
       " 'b95c64fb1.jpg',\n",
       " '1bfba066e.jpg',\n",
       " 'e59f1c750.jpg',\n",
       " '49dfb92b4.jpg',\n",
       " '08af4bc86.jpg',\n",
       " '36bc69cc6.jpg',\n",
       " '2d0bfb71d.jpg',\n",
       " 'c3432b655.jpg',\n",
       " 'c71d2b0cb.jpg',\n",
       " 'ef6e8e10e.jpg',\n",
       " '94bbfe915.jpg',\n",
       " '54d955de6.jpg',\n",
       " 'fa2b6ab29.jpg',\n",
       " '25959e577.jpg',\n",
       " 'd2fd01b8b.jpg',\n",
       " '5a0b63269.jpg',\n",
       " '47c651171.jpg',\n",
       " '474469dd0.jpg',\n",
       " '7900a8df0.jpg',\n",
       " 'd6030ea50.jpg',\n",
       " 'c64948f69.jpg',\n",
       " 'c7220a695.jpg',\n",
       " '868a117a3.jpg',\n",
       " 'a4942a132.jpg',\n",
       " '7508f7e82.jpg',\n",
       " '327b85742.jpg',\n",
       " '2f1c9c7c5.jpg',\n",
       " 'd337d3042.jpg',\n",
       " '95f885931.jpg',\n",
       " '7c3ed0509.jpg',\n",
       " '40bd93a1c.jpg',\n",
       " '07082980b.jpg',\n",
       " 'f8d7cbef8.jpg',\n",
       " '2fc68f310.jpg',\n",
       " '9d09dd802.jpg',\n",
       " '0ada12ca9.jpg',\n",
       " '274c00f61.jpg',\n",
       " '440238800.jpg',\n",
       " 'dde22090a.jpg',\n",
       " 'c33887a64.jpg',\n",
       " '847686d14.jpg',\n",
       " 'd8a374b6f.jpg',\n",
       " 'd05895ac0.jpg',\n",
       " '8670ba74b.jpg',\n",
       " 'ee40c9d11.jpg',\n",
       " 'b4c3f6c7d.jpg',\n",
       " '76f84cb99.jpg',\n",
       " '456bb6153.jpg',\n",
       " '32cf1dd76.jpg',\n",
       " '963bd5015.jpg',\n",
       " '4add07b93.jpg',\n",
       " '45e89c2b6.jpg',\n",
       " 'e8a34348e.jpg',\n",
       " '830ee8368.jpg',\n",
       " '9703c2914.jpg',\n",
       " '267ad1801.jpg',\n",
       " '96e7ecd0d.jpg',\n",
       " 'ad77ae08d.jpg',\n",
       " 'a3604a2ce.jpg',\n",
       " 'd288128bb.jpg',\n",
       " 'c1e87f656.jpg',\n",
       " '0eb597cc1.jpg',\n",
       " '76fc5524e.jpg',\n",
       " 'ad41c9f05.jpg',\n",
       " 'a56d255df.jpg',\n",
       " 'c6c5570d0.jpg',\n",
       " '83e763e4d.jpg',\n",
       " '028cc6a92.jpg',\n",
       " '2de82c00e.jpg',\n",
       " 'cd749aced.jpg',\n",
       " '70c1b7e56.jpg',\n",
       " '7f30b92f9.jpg',\n",
       " '038ca8b5e.jpg',\n",
       " '8d910b805.jpg',\n",
       " 'b1ea15936.jpg',\n",
       " 'e9dad7ce9.jpg',\n",
       " '3817a2bf3.jpg',\n",
       " 'd188b7456.jpg',\n",
       " '930eb26a3.jpg',\n",
       " 'dfe1d30a7.jpg',\n",
       " 'e4aec0a48.jpg',\n",
       " '8d1167155.jpg',\n",
       " 'f1cacf6bb.jpg',\n",
       " '6d9cd5a91.jpg',\n",
       " '294397ac3.jpg',\n",
       " 'adf047bf8.jpg',\n",
       " '41a3edb86.jpg',\n",
       " '4a7a02223.jpg',\n",
       " 'c73c161d6.jpg',\n",
       " 'db1431109.jpg',\n",
       " '3832a8f8e.jpg',\n",
       " '67b378b2d.jpg',\n",
       " '363bc0cf3.jpg',\n",
       " 'a59eaa0f1.jpg',\n",
       " '755da2f9b.jpg',\n",
       " '0621f7012.jpg',\n",
       " '83a703c89.jpg',\n",
       " '18bf1f080.jpg',\n",
       " '35bc25b95.jpg',\n",
       " '0f38808f7.jpg',\n",
       " '21b8c2bb5.jpg',\n",
       " '973b887d5.jpg',\n",
       " '46e3c4c8d.jpg',\n",
       " '7ea7e10f8.jpg',\n",
       " '56c1e25f1.jpg',\n",
       " 'ee8adf9bb.jpg',\n",
       " '060e67f46.jpg',\n",
       " '1023263af.jpg',\n",
       " '6af5bd347.jpg',\n",
       " '659ea7be9.jpg',\n",
       " '75462ccdc.jpg',\n",
       " '5809c05ed.jpg',\n",
       " 'd63268bca.jpg',\n",
       " '43ad62225.jpg',\n",
       " '8b2e37411.jpg',\n",
       " '1e51da215.jpg',\n",
       " 'd985368db.jpg',\n",
       " '3b8917932.jpg',\n",
       " '04846b622.jpg',\n",
       " 'cea56e3f9.jpg',\n",
       " '98d4c2862.jpg',\n",
       " 'e775441c2.jpg',\n",
       " '926e9f7b6.jpg',\n",
       " '2fe0eb2d3.jpg',\n",
       " '68797457b.jpg',\n",
       " '1c183bb56.jpg',\n",
       " '3982f0e0c.jpg',\n",
       " '7f0bfa521.jpg',\n",
       " 'de12d8c31.jpg',\n",
       " '99fb03397.jpg',\n",
       " '121f845b4.jpg',\n",
       " '9af546aab.jpg',\n",
       " 'c5ca7df50.jpg',\n",
       " '9fb87ac47.jpg',\n",
       " '3a90c26ed.jpg',\n",
       " '2c58e8554.jpg',\n",
       " '94262ef0a.jpg',\n",
       " '1a991706b.jpg',\n",
       " 'af2ba4457.jpg',\n",
       " '11bc1c695.jpg',\n",
       " '659263b97.jpg',\n",
       " '53edcc065.jpg',\n",
       " '867e0842f.jpg',\n",
       " 'e7261665c.jpg',\n",
       " '03c45c82f.jpg',\n",
       " 'a4e31dee7.jpg',\n",
       " 'e6d2cff31.jpg',\n",
       " 'cc49d2096.jpg',\n",
       " '488d44a5e.jpg',\n",
       " '7a9a0e3fd.jpg',\n",
       " 'd8e4eb5e5.jpg',\n",
       " 'ea3839241.jpg',\n",
       " '19d46ce99.jpg',\n",
       " 'adc6881d1.jpg',\n",
       " 'a24ec0c8b.jpg',\n",
       " 'd2bd5513f.jpg',\n",
       " '1c6e9ab91.jpg',\n",
       " '46d47684b.jpg',\n",
       " '1cf7596f1.jpg',\n",
       " 'ed54b7728.jpg',\n",
       " 'a4d750143.jpg',\n",
       " 'cd760cc71.jpg',\n",
       " '9312d1a58.jpg',\n",
       " 'bbbec7397.jpg',\n",
       " '24ebe2ef6.jpg',\n",
       " '717876b4d.jpg',\n",
       " '925883540.jpg',\n",
       " 'a218a266a.jpg',\n",
       " '9454131fb.jpg',\n",
       " '438e509ae.jpg',\n",
       " 'a49fd87c1.jpg',\n",
       " '9bd0f65ea.jpg',\n",
       " '1cae740a1.jpg',\n",
       " '69d50fc60.jpg',\n",
       " '430152ea1.jpg',\n",
       " 'c2b4d2138.jpg',\n",
       " '98fc032fc.jpg',\n",
       " 'b586baed3.jpg',\n",
       " '0208b1b3e.jpg',\n",
       " 'eca4883c0.jpg',\n",
       " '71d816a14.jpg',\n",
       " 'd2a1be2cd.jpg',\n",
       " 'b41fd2680.jpg',\n",
       " 'e996b5755.jpg',\n",
       " 'a6b4e905c.jpg',\n",
       " '7555fcb24.jpg',\n",
       " 'f01167a4e.jpg',\n",
       " '522742ada.jpg',\n",
       " 'a164a8e90.jpg',\n",
       " 'a7c188035.jpg',\n",
       " 'aec7f5ac3.jpg',\n",
       " '610366c18.jpg',\n",
       " '9e7f808c8.jpg',\n",
       " '677986516.jpg',\n",
       " '37aee9d32.jpg',\n",
       " '5404769b0.jpg',\n",
       " 'd71524ae3.jpg',\n",
       " '585bc74c1.jpg',\n",
       " 'a10134ee7.jpg',\n",
       " '4279ed570.jpg',\n",
       " '6728bd184.jpg',\n",
       " 'b07d92fd0.jpg',\n",
       " '740d052c0.jpg',\n",
       " '5c69129ca.jpg',\n",
       " '60728400d.jpg',\n",
       " 'cb508686e.jpg',\n",
       " '5b0db0f04.jpg',\n",
       " 'ea6fd2ae5.jpg',\n",
       " '306e859eb.jpg',\n",
       " '92a30c07f.jpg',\n",
       " 'd7ad50e7b.jpg',\n",
       " '5bd0ab3ae.jpg',\n",
       " 'c18cbf859.jpg',\n",
       " '196421b5c.jpg',\n",
       " '39da95c1d.jpg',\n",
       " 'e6a7e324b.jpg',\n",
       " '820889b69.jpg',\n",
       " '2766493e6.jpg',\n",
       " 'aa3e7831d.jpg',\n",
       " 'c42364c81.jpg',\n",
       " '578512b9f.jpg',\n",
       " '6f1810c20.jpg',\n",
       " '218cf3a84.jpg',\n",
       " 'f0890495c.jpg',\n",
       " '032bf2bfd.jpg',\n",
       " '303e11707.jpg',\n",
       " '461c55511.jpg',\n",
       " '821f45dc7.jpg',\n",
       " '6aca9e504.jpg',\n",
       " '04ebe4dfe.jpg',\n",
       " 'fe744c09e.jpg',\n",
       " '62e7b203c.jpg',\n",
       " '5802c0f50.jpg',\n",
       " '4c96ce1c4.jpg',\n",
       " 'fbf465ada.jpg',\n",
       " 'ba1f49118.jpg',\n",
       " 'cf263391b.jpg',\n",
       " 'f6c9480e6.jpg',\n",
       " '7fffe501d.jpg',\n",
       " 'f0bbc24d0.jpg',\n",
       " 'b3bfca7b2.jpg',\n",
       " '21f406c07.jpg',\n",
       " 'dfad3f325.jpg',\n",
       " '63a071869.jpg',\n",
       " '7de3b8418.jpg',\n",
       " '08aab68dd.jpg',\n",
       " 'ef3dcf807.jpg',\n",
       " '097321424.jpg',\n",
       " '4386fbe0f.jpg',\n",
       " '7813f6a83.jpg',\n",
       " 'f07a59c04.jpg',\n",
       " '313162e33.jpg',\n",
       " 'e4af2067f.jpg',\n",
       " '648fd6670.jpg',\n",
       " '8e6e1857b.jpg',\n",
       " '0d78a4460.jpg',\n",
       " '530250ec9.jpg',\n",
       " '93112c047.jpg',\n",
       " 'd6bfff20a.jpg',\n",
       " '4e436387b.jpg',\n",
       " '081aca447.jpg',\n",
       " '0a239ca6b.jpg',\n",
       " '42fbb57c6.jpg',\n",
       " '84a95448c.jpg',\n",
       " '41abb8585.jpg',\n",
       " '0d720d447.jpg',\n",
       " '6ab5562e1.jpg',\n",
       " '73b464017.jpg',\n",
       " 'b3f0534eb.jpg',\n",
       " 'e6cf1a48c.jpg',\n",
       " '2e646358b.jpg',\n",
       " 'd043b0a01.jpg',\n",
       " '36dc8579e.jpg',\n",
       " 'f3435710f.jpg',\n",
       " 'b14463981.jpg',\n",
       " '73119d65a.jpg',\n",
       " 'bf58a12d2.jpg',\n",
       " 'e604f5aa1.jpg',\n",
       " 'fad0a4c1e.jpg',\n",
       " '0945153b4.jpg',\n",
       " 'e53828142.jpg',\n",
       " '287add16e.jpg',\n",
       " 'c58346350.jpg',\n",
       " '9b594d11e.jpg',\n",
       " '767598e55.jpg',\n",
       " '580260aaa.jpg',\n",
       " 'a8a5bc9cf.jpg',\n",
       " '8228ff264.jpg',\n",
       " '0877e2210.jpg',\n",
       " 'edf4665f6.jpg',\n",
       " 'ce49945db.jpg',\n",
       " 'f5bb1bf26.jpg',\n",
       " '3cf994775.jpg',\n",
       " '438fb77af.jpg',\n",
       " '9a49cbb80.jpg',\n",
       " '14328f52c.jpg',\n",
       " 'a070bc80c.jpg',\n",
       " 'b4a217ab4.jpg',\n",
       " '5dafe7ac7.jpg',\n",
       " '7d1310782.jpg',\n",
       " '193994c4c.jpg',\n",
       " '6367d06f3.jpg',\n",
       " 'acd4d71bd.jpg',\n",
       " '37eeb1fd2.jpg',\n",
       " '7c6d95f30.jpg',\n",
       " '2845c9d67.jpg',\n",
       " '41ea827ec.jpg',\n",
       " 'd87652e51.jpg',\n",
       " '595df23d8.jpg',\n",
       " '3fd7aea6a.jpg',\n",
       " '228093671.jpg',\n",
       " 'fd58cb592.jpg',\n",
       " '2d41bb376.jpg',\n",
       " 'ee7578010.jpg',\n",
       " '9b2a37a66.jpg',\n",
       " '63615bfd8.jpg',\n",
       " 'ba9c3d11a.jpg',\n",
       " '83853c0e0.jpg',\n",
       " 'cfb690e3f.jpg',\n",
       " '1480205eb.jpg',\n",
       " '12cdf5547.jpg',\n",
       " 'e880c15f6.jpg',\n",
       " '6d2586543.jpg',\n",
       " '5d5014f3e.jpg',\n",
       " '48e44ba2a.jpg',\n",
       " '1a36da3c8.jpg',\n",
       " '51c0ac36f.jpg',\n",
       " '7c1b70be7.jpg',\n",
       " 'c38b6b3b6.jpg',\n",
       " '6601e3efa.jpg',\n",
       " '3b2278182.jpg',\n",
       " '50f853b1a.jpg',\n",
       " 'b7d9e23d9.jpg',\n",
       " '98bd34a12.jpg',\n",
       " '0e9056eea.jpg',\n",
       " '890d8147f.jpg',\n",
       " '3b085b5c8.jpg',\n",
       " '2b398436a.jpg',\n",
       " '0c08353f1.jpg',\n",
       " '28be214f0.jpg',\n",
       " 'ca0a3e152.jpg',\n",
       " '30e126c21.jpg',\n",
       " '1e19658a6.jpg',\n",
       " '452622f6e.jpg',\n",
       " '8fab911de.jpg',\n",
       " '70d6dbbb9.jpg',\n",
       " 'ff0304b94.jpg',\n",
       " '137ccebae.jpg',\n",
       " 'f3c9b7753.jpg',\n",
       " '091dcdf5b.jpg',\n",
       " 'cde754955.jpg',\n",
       " '43d6b80df.jpg',\n",
       " '3437e9476.jpg',\n",
       " '574d3ed8b.jpg',\n",
       " '7762eb772.jpg',\n",
       " 'b5b56cdec.jpg',\n",
       " '4e79f2933.jpg',\n",
       " '7a76aaf96.jpg',\n",
       " 'f0e7a1dc4.jpg',\n",
       " 'b69e502e7.jpg',\n",
       " 'a5b9306af.jpg',\n",
       " 'd1b13f86d.jpg',\n",
       " 'dd4d900b6.jpg',\n",
       " 'a2692aeea.jpg',\n",
       " '2900b7dec.jpg',\n",
       " '67ed708d5.jpg',\n",
       " '939d46ad9.jpg',\n",
       " 'e72ece917.jpg',\n",
       " '31dee7630.jpg',\n",
       " '251d29693.jpg',\n",
       " 'e89249147.jpg',\n",
       " '65470a014.jpg',\n",
       " '59c9c6664.jpg',\n",
       " '7e6f79a11.jpg',\n",
       " '12a4850e4.jpg',\n",
       " '401c67e9a.jpg',\n",
       " '7dfb3d50e.jpg',\n",
       " 'ff95c37b0.jpg',\n",
       " '8b57acc14.jpg',\n",
       " 'a55d28949.jpg',\n",
       " '4c1033b93.jpg',\n",
       " '716b07216.jpg',\n",
       " '1c1f1d68c.jpg',\n",
       " 'e32610aa9.jpg',\n",
       " '5edc854dd.jpg',\n",
       " '077833511.jpg',\n",
       " '0dfc605a2.jpg',\n",
       " 'e16dabd72.jpg',\n",
       " 'd41933ade.jpg',\n",
       " '9bb36b1de.jpg',\n",
       " '22a6a494a.jpg',\n",
       " '9fe817c74.jpg',\n",
       " 'b31da7ffa.jpg',\n",
       " '9aa9dfda9.jpg',\n",
       " 'a1c13fd8e.jpg',\n",
       " 'f316f162a.jpg',\n",
       " '91af7c721.jpg',\n",
       " '4848353b9.jpg',\n",
       " '2431c4d1d.jpg',\n",
       " '32ac59400.jpg',\n",
       " '3eab85ed7.jpg',\n",
       " 'c8c35a7dc.jpg',\n",
       " '0a71d2b17.jpg',\n",
       " '6cd4c94c2.jpg',\n",
       " '8e8bf20af.jpg',\n",
       " '7f3d9cad5.jpg',\n",
       " 'b3d0c9771.jpg',\n",
       " 'dcca5e0cb.jpg',\n",
       " '147e931e8.jpg',\n",
       " 'a68be7bcf.jpg',\n",
       " '1c06ff562.jpg',\n",
       " '38727c3e7.jpg',\n",
       " '2f48628b1.jpg',\n",
       " 'f7436ba90.jpg',\n",
       " '7de367103.jpg',\n",
       " 'e9a4e7881.jpg',\n",
       " '3b6410773.jpg',\n",
       " 'bc9e3114f.jpg',\n",
       " 'b33c8d2e6.jpg',\n",
       " 'd96a66c89.jpg',\n",
       " '58162f0db.jpg',\n",
       " '326620cfd.jpg',\n",
       " 'a40e2128e.jpg',\n",
       " '3d89d8234.jpg',\n",
       " 'f4b05a73b.jpg',\n",
       " '597444782.jpg',\n",
       " '1db99c681.jpg',\n",
       " '6b4d18ba2.jpg',\n",
       " 'c3f72900b.jpg',\n",
       " 'a67c97c42.jpg',\n",
       " 'a4731c188.jpg',\n",
       " '99b4d1623.jpg',\n",
       " '60ac35682.jpg',\n",
       " 'c79cea904.jpg',\n",
       " 'b31419661.jpg',\n",
       " '653855fbd.jpg',\n",
       " 'a6009e951.jpg',\n",
       " 'e488dcd7d.jpg',\n",
       " '5519dad4f.jpg',\n",
       " 'cd9af2a48.jpg',\n",
       " 'be5374db1.jpg',\n",
       " '535031b50.jpg',\n",
       " 'ab9a9e5fa.jpg',\n",
       " 'b9e412cc6.jpg',\n",
       " '2ffd9d994.jpg',\n",
       " '32ba6b0b2.jpg',\n",
       " 'e13fd912f.jpg',\n",
       " '9b1040b8a.jpg',\n",
       " '2bae7cc12.jpg',\n",
       " '1e60a9a0a.jpg',\n",
       " 'fe512aa9e.jpg',\n",
       " '5d86e3371.jpg',\n",
       " '7bb622096.jpg',\n",
       " '0d0e22bf5.jpg',\n",
       " 'ba06d6ac0.jpg',\n",
       " '854276c38.jpg',\n",
       " '078464555.jpg',\n",
       " '9fcabb644.jpg',\n",
       " '292b3b372.jpg',\n",
       " 'cf87b5297.jpg',\n",
       " 'b9b13cfa3.jpg',\n",
       " 'be9788c07.jpg',\n",
       " 'a7502d37c.jpg',\n",
       " '29ada31d0.jpg',\n",
       " 'cc4d76853.jpg',\n",
       " '2372025a0.jpg',\n",
       " '30e642aa5.jpg',\n",
       " 'bb3ec09f5.jpg',\n",
       " 'a79d56b82.jpg',\n",
       " 'a79ac5c46.jpg',\n",
       " '72c1d6f97.jpg',\n",
       " '5a9b03444.jpg',\n",
       " '17464b59b.jpg',\n",
       " '73de6e5be.jpg',\n",
       " 'f0b203316.jpg',\n",
       " 'd9f3d7be3.jpg',\n",
       " 'd4ca796f5.jpg',\n",
       " '1dbb6cc59.jpg',\n",
       " '399add6a7.jpg',\n",
       " '570a10e64.jpg',\n",
       " '3e89ae2fe.jpg',\n",
       " '124fcfb06.jpg',\n",
       " '4434977de.jpg',\n",
       " '16f154ebe.jpg',\n",
       " 'ff3948e66.jpg',\n",
       " '2f39ff1c8.jpg',\n",
       " '66ca3b0f1.jpg',\n",
       " '1486032cc.jpg',\n",
       " '8fc8bb234.jpg',\n",
       " '3f906b3c5.jpg',\n",
       " '46653100b.jpg',\n",
       " '28b1872c2.jpg',\n",
       " '4dc124c88.jpg',\n",
       " '4af9e0f59.jpg',\n",
       " 'bb26ced1d.jpg',\n",
       " '4ebaa4abb.jpg',\n",
       " 'c0dee5c92.jpg',\n",
       " 'b8b765616.jpg',\n",
       " 'f6d90850d.jpg',\n",
       " '2053ae9b3.jpg',\n",
       " '7c594d140.jpg',\n",
       " 'c5c2758f1.jpg',\n",
       " '58bee8401.jpg',\n",
       " '5ba73f7b3.jpg',\n",
       " '3dde3bcb4.jpg',\n",
       " '673c997b4.jpg',\n",
       " '52b82dd88.jpg',\n",
       " 'f6f71d1f7.jpg',\n",
       " '4aba52b2d.jpg',\n",
       " '554f0a693.jpg',\n",
       " '1a55e1d2a.jpg',\n",
       " '03b2235c0.jpg',\n",
       " '878a5af8c.jpg',\n",
       " 'c6531654c.jpg',\n",
       " '15edc7442.jpg',\n",
       " 'fdd9fe44a.jpg',\n",
       " '410a5aaa5.jpg',\n",
       " '69e736ab8.jpg',\n",
       " '715344501.jpg',\n",
       " '635f9700a.jpg',\n",
       " 'a0092afe3.jpg',\n",
       " '10ce2ef79.jpg',\n",
       " 'f2cfd80a3.jpg',\n",
       " 'fb3c6ca7d.jpg',\n",
       " 'e9c05bdb4.jpg',\n",
       " 'c2091459e.jpg',\n",
       " '7073fed31.jpg',\n",
       " 'adf7199d4.jpg',\n",
       " '02b6fdee4.jpg',\n",
       " '9f3f8cf4c.jpg',\n",
       " '586bb2756.jpg',\n",
       " '76b999a8c.jpg',\n",
       " 'f7d115a5c.jpg',\n",
       " '94a51d5fe.jpg',\n",
       " 'a9aece776.jpg',\n",
       " '058f9a226.jpg',\n",
       " '1325b3969.jpg',\n",
       " '5b1237740.jpg',\n",
       " 'f3247be5c.jpg',\n",
       " '4486060b8.jpg',\n",
       " 'ac0e29a28.jpg',\n",
       " 'e6c4b49ce.jpg',\n",
       " '786b5efb6.jpg',\n",
       " '414b6b8cc.jpg',\n",
       " '6343390af.jpg',\n",
       " '4e694b6cb.jpg',\n",
       " 'e1913acc0.jpg',\n",
       " '612a3df73.jpg',\n",
       " 'f37906b3d.jpg',\n",
       " 'e55550790.jpg',\n",
       " '3390ec5f9.jpg',\n",
       " '52cc45430.jpg',\n",
       " '46d4ddde0.jpg',\n",
       " '96b4ae6ba.jpg',\n",
       " 'daf19ab8d.jpg',\n",
       " '2b2e80a2d.jpg',\n",
       " '8a82f2027.jpg',\n",
       " '4009d9125.jpg',\n",
       " '824d98fcc.jpg',\n",
       " '0044e3dda.jpg',\n",
       " 'abc9f3878.jpg',\n",
       " '7fbbcf122.jpg',\n",
       " '3d75a5157.jpg',\n",
       " 'a71fbc249.jpg',\n",
       " 'f43111771.jpg',\n",
       " 'bf7bed3c3.jpg',\n",
       " 'cc773f3e6.jpg',\n",
       " '6b5755892.jpg',\n",
       " '8920249aa.jpg',\n",
       " 'a42323477.jpg',\n",
       " '70e21b0d5.jpg',\n",
       " 'c71c57b22.jpg',\n",
       " '5f2ddefe9.jpg',\n",
       " 'bfedc3dce.jpg',\n",
       " '3fb6aa041.jpg',\n",
       " '4be96651d.jpg',\n",
       " '88b40e3d2.jpg',\n",
       " '845267b5b.jpg',\n",
       " '23c23802c.jpg',\n",
       " '503fc40e0.jpg',\n",
       " 'ee74bba3c.jpg',\n",
       " 'c4a0befd9.jpg',\n",
       " '64af6fa54.jpg',\n",
       " '803f6f57e.jpg',\n",
       " '26cc0b9c8.jpg',\n",
       " 'fed1bcd24.jpg',\n",
       " '1d936404e.jpg',\n",
       " '96ce47dbe.jpg',\n",
       " 'dda1606da.jpg',\n",
       " '544cf24dc.jpg',\n",
       " '0f5106368.jpg',\n",
       " '3df1e2a49.jpg',\n",
       " '61668e38b.jpg',\n",
       " '97de06776.jpg',\n",
       " '32175bd02.jpg',\n",
       " 'eea0d4fb1.jpg',\n",
       " '886762b18.jpg',\n",
       " 'ad8f7144d.jpg',\n",
       " '4c238170f.jpg',\n",
       " '02928268a.jpg',\n",
       " '78877cafe.jpg',\n",
       " '2a838f3a3.jpg',\n",
       " 'bd7260de6.jpg',\n",
       " 'a17c538c2.jpg',\n",
       " '18f5ac385.jpg',\n",
       " '2a3354625.jpg',\n",
       " '68dae73e3.jpg',\n",
       " '438fd5345.jpg',\n",
       " '83807086c.jpg',\n",
       " '2369ae2b8.jpg',\n",
       " '684c2d3b8.jpg',\n",
       " '3a45afb76.jpg',\n",
       " '9fb8c8e46.jpg',\n",
       " 'f2cc5570b.jpg',\n",
       " 'c99d4442a.jpg',\n",
       " '9d07108a2.jpg',\n",
       " 'c03b7c4ca.jpg',\n",
       " 'babddc6c5.jpg',\n",
       " '181e66627.jpg',\n",
       " 'f2fc9d710.jpg',\n",
       " '1d5d4baaa.jpg',\n",
       " '0a5d3d96d.jpg',\n",
       " '40c3547d4.jpg',\n",
       " 'a369a9e10.jpg',\n",
       " 'e94937e7c.jpg',\n",
       " 'b49b5ce8c.jpg',\n",
       " '1d97a555f.jpg',\n",
       " 'c16cc2a0f.jpg',\n",
       " 'fad985367.jpg',\n",
       " '15748c308.jpg',\n",
       " 'a24b8a331.jpg',\n",
       " '35461188a.jpg',\n",
       " 'd545cffc1.jpg',\n",
       " '115071f9c.jpg',\n",
       " '01f13f599.jpg',\n",
       " '02badf989.jpg',\n",
       " 'b60947b27.jpg',\n",
       " 'ea39d684c.jpg',\n",
       " '58f88c8de.jpg',\n",
       " '5440e5352.jpg',\n",
       " 'ea8701f8f.jpg',\n",
       " 'fe9f01572.jpg',\n",
       " 'fd71778ce.jpg',\n",
       " 'fd544d698.jpg',\n",
       " 'e660844af.jpg',\n",
       " '798ea75de.jpg',\n",
       " 'a137c1f16.jpg',\n",
       " 'fa40d8ac0.jpg',\n",
       " 'ba17099b8.jpg',\n",
       " 'e86e56818.jpg',\n",
       " ...]"
      ]
     },
     "execution_count": 32,
     "metadata": {},
     "output_type": "execute_result"
    }
   ],
   "source": [
    "test_v2"
   ]
  },
  {
   "cell_type": "code",
   "execution_count": 35,
   "metadata": {},
   "outputs": [],
   "source": [
    "\n",
    "from PIL import Image\n",
    "test_data = np.empty((len(test_v2),256,256,3), dtype=np.float32)\n",
    "test_data_target = np.empty((len(test_v2)), dtype=np.int32)\n",
    "image_name_list = test_v2\n",
    "index = 0\n",
    "for image_name in image_name_list:\n",
    "    if image_name in list(test_v2):\n",
    "        imageA = Image.open('../input/test_v2/' + image_name).resize((256,256)).convert('RGB')\n",
    "        test_data[index]=imageA\n",
    "        # prediction\n",
    "        index+=1\n"
   ]
  },
  {
   "cell_type": "code",
   "execution_count": 36,
   "metadata": {},
   "outputs": [],
   "source": [
    "'''\n",
    "What the predict_input_fn will do with its current settings is to read the entire inference dataset \n",
    "(in order) using batch_size of 128 (default setting). \n",
    "\n",
    "Keep in mind that it will also terminate when completes 1 epoch.\n",
    "'''\n",
    "predict_input_fn = tf.estimator.inputs.numpy_input_fn(\n",
    "    x={'x':test_data},\n",
    "    shuffle=False,\n",
    "    num_epochs=2)"
   ]
  },
  {
   "cell_type": "code",
   "execution_count": 37,
   "metadata": {},
   "outputs": [
    {
     "data": {
      "text/plain": [
       "(15606, 256, 256, 3)"
      ]
     },
     "execution_count": 37,
     "metadata": {},
     "output_type": "execute_result"
    }
   ],
   "source": [
    "test_data.shape"
   ]
  },
  {
   "cell_type": "code",
   "execution_count": 38,
   "metadata": {},
   "outputs": [
    {
     "data": {
      "text/plain": [
       "15606"
      ]
     },
     "execution_count": 38,
     "metadata": {},
     "output_type": "execute_result"
    }
   ],
   "source": [
    "len(test_data)"
   ]
  },
  {
   "cell_type": "code",
   "execution_count": 113,
   "metadata": {},
   "outputs": [],
   "source": [
    "generator = cnn_classifier.predict(input_fn=predict_input_fn)"
   ]
  },
  {
   "cell_type": "code",
   "execution_count": 114,
   "metadata": {},
   "outputs": [],
   "source": [
    "# a=next(generator)"
   ]
  },
  {
   "cell_type": "code",
   "execution_count": 115,
   "metadata": {},
   "outputs": [],
   "source": [
    "# a['classes']"
   ]
  },
  {
   "cell_type": "code",
   "execution_count": 116,
   "metadata": {},
   "outputs": [
    {
     "data": {
      "text/plain": [
       "\"\\npreds1 = []\\nb1 = []\\nfor i in range(400):\\n    a = next(generator)\\n    preds.append(a['classes'])\\n    b.append(i)\\n\""
      ]
     },
     "execution_count": 116,
     "metadata": {},
     "output_type": "execute_result"
    }
   ],
   "source": [
    "\"\"\"\n",
    "preds1 = []\n",
    "b1 = []\n",
    "for i in range(400):\n",
    "    a = next(generator)\n",
    "    preds.append(a['classes'])\n",
    "    b.append(i)\n",
    "\"\"\""
   ]
  },
  {
   "cell_type": "code",
   "execution_count": 117,
   "metadata": {},
   "outputs": [],
   "source": [
    "def unique(list1): \n",
    "  \n",
    "    # intilize a null list \n",
    "    unique_list = [] \n",
    "      \n",
    "    # traverse for all elements \n",
    "    for x in list1: \n",
    "        # check if exists in unique_list or not \n",
    "        if x not in unique_list: \n",
    "            unique_list.append(x) \n",
    "    # print list \n",
    "    for x in unique_list: \n",
    "        print (x, end=\" \")"
   ]
  },
  {
   "cell_type": "code",
   "execution_count": 118,
   "metadata": {},
   "outputs": [
    {
     "name": "stdout",
     "output_type": "stream",
     "text": [
      "INFO:tensorflow:Calling model_fn.\n",
      "INFO:tensorflow:Done calling model_fn.\n",
      "INFO:tensorflow:Graph was finalized.\n",
      "INFO:tensorflow:Restoring parameters from ./CNN_CLASSIFIER/model.ckpt-320\n",
      "INFO:tensorflow:Running local_init_op.\n",
      "INFO:tensorflow:Done running local_init_op.\n"
     ]
    }
   ],
   "source": [
    "preds = []\n",
    "b = []\n",
    "for i in range(15606):\n",
    "    a = next(generator)\n",
    "    preds.append(a['classes'])\n",
    "    b.append(i)"
   ]
  },
  {
   "cell_type": "code",
   "execution_count": 119,
   "metadata": {},
   "outputs": [
    {
     "name": "stdout",
     "output_type": "stream",
     "text": [
      "0 1 "
     ]
    }
   ],
   "source": [
    "unique(preds)"
   ]
  },
  {
   "cell_type": "code",
   "execution_count": 120,
   "metadata": {},
   "outputs": [
    {
     "data": {
      "text/plain": [
       "15606"
      ]
     },
     "execution_count": 120,
     "metadata": {},
     "output_type": "execute_result"
    }
   ],
   "source": [
    "len(preds)"
   ]
  },
  {
   "cell_type": "code",
   "execution_count": 121,
   "metadata": {},
   "outputs": [
    {
     "name": "stdout",
     "output_type": "stream",
     "text": [
      "<class 'list'>\n",
      "<class 'numpy.ndarray'>\n",
      "15606\n"
     ]
    }
   ],
   "source": [
    "print(type(preds))\n",
    "print(type(test_data))\n",
    "print(len(preds))\n",
    "#b[-1]"
   ]
  },
  {
   "cell_type": "code",
   "execution_count": 122,
   "metadata": {},
   "outputs": [
    {
     "data": {
      "text/plain": [
       "[0, 1, 0, 1, 0]"
      ]
     },
     "execution_count": 122,
     "metadata": {},
     "output_type": "execute_result"
    }
   ],
   "source": [
    "c=preds[:5]\n",
    "c"
   ]
  },
  {
   "cell_type": "code",
   "execution_count": 151,
   "metadata": {},
   "outputs": [
    {
     "name": "stdout",
     "output_type": "stream",
     "text": [
      "7691 748 8459 748 9227 748 9995 748 10763 748 1153\n",
      "<class 'str'>\n"
     ]
    }
   ],
   "source": [
    "e = [7691,748,8459,748,9227,748,9995,748,10763,748,1153]\n",
    "f = (' '.join(map(str, e)))\n",
    "print(f)\n",
    "print(type(f))"
   ]
  },
  {
   "cell_type": "code",
   "execution_count": 172,
   "metadata": {},
   "outputs": [
    {
     "name": "stdout",
     "output_type": "stream",
     "text": [
      "(768, 768)\n",
      "7691 748 8459 748 9227 748 9995 748 10763 748 1153\n"
     ]
    },
    {
     "data": {
      "image/png": "[encoded data removed]",
      "text/plain": [
       "<Figure size 288x288 with 1 Axes>"
      ]
     },
     "metadata": {
      "needs_background": "light"
     },
     "output_type": "display_data"
    }
   ],
   "source": [
    "# ref: https://www.kaggle.com/paulorzp/run-length-encode-and-decode\n",
    "def rle_encode(img):\n",
    "    '''\n",
    "    img: numpy array, 1 - mask, 0 - background\n",
    "    Returns run length as string formated\n",
    "    '''\n",
    "    pixels = img.T.flatten()\n",
    "    pixels = np.concatenate([[0], pixels, [0]])\n",
    "    runs = np.where(pixels[1:] != pixels[:-1])[0] + 1\n",
    "    runs[1::2] -= runs[::2]\n",
    "    return ' '.join(str(x) for x in runs)\n",
    "# empty image\n",
    "zp_dim = 10\n",
    "out_img = np.ones((768-2*zp_dim, 768-2*zp_dim), dtype=bool)\n",
    "out_img = np.pad(out_img, ((zp_dim, zp_dim),), mode='constant', constant_values=0)\n",
    "plt.matshow(out_img)\n",
    "print(out_img.shape)\n",
    "pos_ship_str = rle_encode(out_img)\n",
    "print(pos_ship_str[:50])"
   ]
  },
  {
   "cell_type": "code",
   "execution_count": 173,
   "metadata": {},
   "outputs": [
    {
     "data": {
      "text/plain": [
       "'7691 748 8459 748 9227 748 9995 748 10763 748 11531 748 12299 748 13067 748 13835 748 14603 748 15371 748 16139 748 16907 748 17675 748 18443 748 19211 748 19979 748 20747 748 21515 748 22283 748 23051 748 23819 748 24587 748 25355 748 26123 748 26891 748 27659 748 28427 748 29195 748 29963 748 30731 748 31499 748 32267 748 33035 748 33803 748 34571 748 35339 748 36107 748 36875 748 37643 748 38411 748 39179 748 39947 748 40715 748 41483 748 42251 748 43019 748 43787 748 44555 748 45323 748 46091 748 46859 748 47627 748 48395 748 49163 748 49931 748 50699 748 51467 748 52235 748 53003 748 53771 748 54539 748 55307 748 56075 748 56843 748 57611 748 58379 748 59147 748 59915 748 60683 748 61451 748 62219 748 62987 748 63755 748 64523 748 65291 748 66059 748 66827 748 67595 748 68363 748 69131 748 69899 748 70667 748 71435 748 72203 748 72971 748 73739 748 74507 748 75275 748 76043 748 76811 748 77579 748 78347 748 79115 748 79883 748 80651 748 81419 748 82187 748 82955 748 83723 748 84491 748 85259 748 86027 748 86795 748 87563 748 88331 748 89099 748 89867 748 90635 748 91403 748 92171 748 92939 748 93707 748 94475 748 95243 748 96011 748 96779 748 97547 748 98315 748 99083 748 99851 748 100619 748 101387 748 102155 748 102923 748 103691 748 104459 748 105227 748 105995 748 106763 748 107531 748 108299 748 109067 748 109835 748 110603 748 111371 748 112139 748 112907 748 113675 748 114443 748 115211 748 115979 748 116747 748 117515 748 118283 748 119051 748 119819 748 120587 748 121355 748 122123 748 122891 748 123659 748 124427 748 125195 748 125963 748 126731 748 127499 748 128267 748 129035 748 129803 748 130571 748 131339 748 132107 748 132875 748 133643 748 134411 748 135179 748 135947 748 136715 748 137483 748 138251 748 139019 748 139787 748 140555 748 141323 748 142091 748 142859 748 143627 748 144395 748 145163 748 145931 748 146699 748 147467 748 148235 748 149003 748 149771 748 150539 748 151307 748 152075 748 152843 748 153611 748 154379 748 155147 748 155915 748 156683 748 157451 748 158219 748 158987 748 159755 748 160523 748 161291 748 162059 748 162827 748 163595 748 164363 748 165131 748 165899 748 166667 748 167435 748 168203 748 168971 748 169739 748 170507 748 171275 748 172043 748 172811 748 173579 748 174347 748 175115 748 175883 748 176651 748 177419 748 178187 748 178955 748 179723 748 180491 748 181259 748 182027 748 182795 748 183563 748 184331 748 185099 748 185867 748 186635 748 187403 748 188171 748 188939 748 189707 748 190475 748 191243 748 192011 748 192779 748 193547 748 194315 748 195083 748 195851 748 196619 748 197387 748 198155 748 198923 748 199691 748 200459 748 201227 748 201995 748 202763 748 203531 748 204299 748 205067 748 205835 748 206603 748 207371 748 208139 748 208907 748 209675 748 210443 748 211211 748 211979 748 212747 748 213515 748 214283 748 215051 748 215819 748 216587 748 217355 748 218123 748 218891 748 219659 748 220427 748 221195 748 221963 748 222731 748 223499 748 224267 748 225035 748 225803 748 226571 748 227339 748 228107 748 228875 748 229643 748 230411 748 231179 748 231947 748 232715 748 233483 748 234251 748 235019 748 235787 748 236555 748 237323 748 238091 748 238859 748 239627 748 240395 748 241163 748 241931 748 242699 748 243467 748 244235 748 245003 748 245771 748 246539 748 247307 748 248075 748 248843 748 249611 748 250379 748 251147 748 251915 748 252683 748 253451 748 254219 748 254987 748 255755 748 256523 748 257291 748 258059 748 258827 748 259595 748 260363 748 261131 748 261899 748 262667 748 263435 748 264203 748 264971 748 265739 748 266507 748 267275 748 268043 748 268811 748 269579 748 270347 748 271115 748 271883 748 272651 748 273419 748 274187 748 274955 748 275723 748 276491 748 277259 748 278027 748 278795 748 279563 748 280331 748 281099 748 281867 748 282635 748 283403 748 284171 748 284939 748 285707 748 286475 748 287243 748 288011 748 288779 748 289547 748 290315 748 291083 748 291851 748 292619 748 293387 748 294155 748 294923 748 295691 748 296459 748 297227 748 297995 748 298763 748 299531 748 300299 748 301067 748 301835 748 302603 748 303371 748 304139 748 304907 748 305675 748 306443 748 307211 748 307979 748 308747 748 309515 748 310283 748 311051 748 311819 748 312587 748 313355 748 314123 748 314891 748 315659 748 316427 748 317195 748 317963 748 318731 748 319499 748 320267 748 321035 748 321803 748 322571 748 323339 748 324107 748 324875 748 325643 748 326411 748 327179 748 327947 748 328715 748 329483 748 330251 748 331019 748 331787 748 332555 748 333323 748 334091 748 334859 748 335627 748 336395 748 337163 748 337931 748 338699 748 339467 748 340235 748 341003 748 341771 748 342539 748 343307 748 344075 748 344843 748 345611 748 346379 748 347147 748 347915 748 348683 748 349451 748 350219 748 350987 748 351755 748 352523 748 353291 748 354059 748 354827 748 355595 748 356363 748 357131 748 357899 748 358667 748 359435 748 360203 748 360971 748 361739 748 362507 748 363275 748 364043 748 364811 748 365579 748 366347 748 367115 748 367883 748 368651 748 369419 748 370187 748 370955 748 371723 748 372491 748 373259 748 374027 748 374795 748 375563 748 376331 748 377099 748 377867 748 378635 748 379403 748 380171 748 380939 748 381707 748 382475 748 383243 748 384011 748 384779 748 385547 748 386315 748 387083 748 387851 748 388619 748 389387 748 390155 748 390923 748 391691 748 392459 748 393227 748 393995 748 394763 748 395531 748 396299 748 397067 748 397835 748 398603 748 399371 748 400139 748 400907 748 401675 748 402443 748 403211 748 403979 748 404747 748 405515 748 406283 748 407051 748 407819 748 408587 748 409355 748 410123 748 410891 748 411659 748 412427 748 413195 748 413963 748 414731 748 415499 748 416267 748 417035 748 417803 748 418571 748 419339 748 420107 748 420875 748 421643 748 422411 748 423179 748 423947 748 424715 748 425483 748 426251 748 427019 748 427787 748 428555 748 429323 748 430091 748 430859 748 431627 748 432395 748 433163 748 433931 748 434699 748 435467 748 436235 748 437003 748 437771 748 438539 748 439307 748 440075 748 440843 748 441611 748 442379 748 443147 748 443915 748 444683 748 445451 748 446219 748 446987 748 447755 748 448523 748 449291 748 450059 748 450827 748 451595 748 452363 748 453131 748 453899 748 454667 748 455435 748 456203 748 456971 748 457739 748 458507 748 459275 748 460043 748 460811 748 461579 748 462347 748 463115 748 463883 748 464651 748 465419 748 466187 748 466955 748 467723 748 468491 748 469259 748 470027 748 470795 748 471563 748 472331 748 473099 748 473867 748 474635 748 475403 748 476171 748 476939 748 477707 748 478475 748 479243 748 480011 748 480779 748 481547 748 482315 748 483083 748 483851 748 484619 748 485387 748 486155 748 486923 748 487691 748 488459 748 489227 748 489995 748 490763 748 491531 748 492299 748 493067 748 493835 748 494603 748 495371 748 496139 748 496907 748 497675 748 498443 748 499211 748 499979 748 500747 748 501515 748 502283 748 503051 748 503819 748 504587 748 505355 748 506123 748 506891 748 507659 748 508427 748 509195 748 509963 748 510731 748 511499 748 512267 748 513035 748 513803 748 514571 748 515339 748 516107 748 516875 748 517643 748 518411 748 519179 748 519947 748 520715 748 521483 748 522251 748 523019 748 523787 748 524555 748 525323 748 526091 748 526859 748 527627 748 528395 748 529163 748 529931 748 530699 748 531467 748 532235 748 533003 748 533771 748 534539 748 535307 748 536075 748 536843 748 537611 748 538379 748 539147 748 539915 748 540683 748 541451 748 542219 748 542987 748 543755 748 544523 748 545291 748 546059 748 546827 748 547595 748 548363 748 549131 748 549899 748 550667 748 551435 748 552203 748 552971 748 553739 748 554507 748 555275 748 556043 748 556811 748 557579 748 558347 748 559115 748 559883 748 560651 748 561419 748 562187 748 562955 748 563723 748 564491 748 565259 748 566027 748 566795 748 567563 748 568331 748 569099 748 569867 748 570635 748 571403 748 572171 748 572939 748 573707 748 574475 748 575243 748 576011 748 576779 748 577547 748 578315 748 579083 748 579851 748 580619 748 581387 748'"
      ]
     },
     "execution_count": 173,
     "metadata": {},
     "output_type": "execute_result"
    }
   ],
   "source": [
    "pos_ship_str"
   ]
  },
  {
   "cell_type": "code",
   "execution_count": 174,
   "metadata": {},
   "outputs": [],
   "source": [
    "#submission_df['EncodedPixels'] = submission_df['score'].map(lambda x: pos_ship_str if x>0.5 else None)"
   ]
  },
  {
   "cell_type": "code",
   "execution_count": 175,
   "metadata": {},
   "outputs": [
    {
     "data": {
      "text/plain": [
       "'7691 748 8459 748 9227 748 9995 748 10763 748 1153'"
      ]
     },
     "execution_count": 175,
     "metadata": {},
     "output_type": "execute_result"
    }
   ],
   "source": [
    "p=preds[1]\n",
    "p"
   ]
  },
  {
   "cell_type": "code",
   "execution_count": 176,
   "metadata": {},
   "outputs": [],
   "source": [
    "for i in range(len(preds)):\n",
    "    if preds[i] == 0:\n",
    "        preds[i] = None\n",
    "    if preds[i] == '7691 748 8459 748 9227 748 9995 748 10763 748 1153':\n",
    "        preds[i] = pos_ship_str"
   ]
  },
  {
   "cell_type": "code",
   "execution_count": 177,
   "metadata": {},
   "outputs": [
    {
     "data": {
      "text/plain": [
       "[None,\n",
       " '7691 748 8459 748 9227 748 9995 748 10763 748 11531 748 12299 748 13067 748 13835 748 14603 748 15371 748 16139 748 16907 748 17675 748 18443 748 19211 748 19979 748 20747 748 21515 748 22283 748 23051 748 23819 748 24587 748 25355 748 26123 748 26891 748 27659 748 28427 748 29195 748 29963 748 30731 748 31499 748 32267 748 33035 748 33803 748 34571 748 35339 748 36107 748 36875 748 37643 748 38411 748 39179 748 39947 748 40715 748 41483 748 42251 748 43019 748 43787 748 44555 748 45323 748 46091 748 46859 748 47627 748 48395 748 49163 748 49931 748 50699 748 51467 748 52235 748 53003 748 53771 748 54539 748 55307 748 56075 748 56843 748 57611 748 58379 748 59147 748 59915 748 60683 748 61451 748 62219 748 62987 748 63755 748 64523 748 65291 748 66059 748 66827 748 67595 748 68363 748 69131 748 69899 748 70667 748 71435 748 72203 748 72971 748 73739 748 74507 748 75275 748 76043 748 76811 748 77579 748 78347 748 79115 748 79883 748 80651 748 81419 748 82187 748 82955 748 83723 748 84491 748 85259 748 86027 748 86795 748 87563 748 88331 748 89099 748 89867 748 90635 748 91403 748 92171 748 92939 748 93707 748 94475 748 95243 748 96011 748 96779 748 97547 748 98315 748 99083 748 99851 748 100619 748 101387 748 102155 748 102923 748 103691 748 104459 748 105227 748 105995 748 106763 748 107531 748 108299 748 109067 748 109835 748 110603 748 111371 748 112139 748 112907 748 113675 748 114443 748 115211 748 115979 748 116747 748 117515 748 118283 748 119051 748 119819 748 120587 748 121355 748 122123 748 122891 748 123659 748 124427 748 125195 748 125963 748 126731 748 127499 748 128267 748 129035 748 129803 748 130571 748 131339 748 132107 748 132875 748 133643 748 134411 748 135179 748 135947 748 136715 748 137483 748 138251 748 139019 748 139787 748 140555 748 141323 748 142091 748 142859 748 143627 748 144395 748 145163 748 145931 748 146699 748 147467 748 148235 748 149003 748 149771 748 150539 748 151307 748 152075 748 152843 748 153611 748 154379 748 155147 748 155915 748 156683 748 157451 748 158219 748 158987 748 159755 748 160523 748 161291 748 162059 748 162827 748 163595 748 164363 748 165131 748 165899 748 166667 748 167435 748 168203 748 168971 748 169739 748 170507 748 171275 748 172043 748 172811 748 173579 748 174347 748 175115 748 175883 748 176651 748 177419 748 178187 748 178955 748 179723 748 180491 748 181259 748 182027 748 182795 748 183563 748 184331 748 185099 748 185867 748 186635 748 187403 748 188171 748 188939 748 189707 748 190475 748 191243 748 192011 748 192779 748 193547 748 194315 748 195083 748 195851 748 196619 748 197387 748 198155 748 198923 748 199691 748 200459 748 201227 748 201995 748 202763 748 203531 748 204299 748 205067 748 205835 748 206603 748 207371 748 208139 748 208907 748 209675 748 210443 748 211211 748 211979 748 212747 748 213515 748 214283 748 215051 748 215819 748 216587 748 217355 748 218123 748 218891 748 219659 748 220427 748 221195 748 221963 748 222731 748 223499 748 224267 748 225035 748 225803 748 226571 748 227339 748 228107 748 228875 748 229643 748 230411 748 231179 748 231947 748 232715 748 233483 748 234251 748 235019 748 235787 748 236555 748 237323 748 238091 748 238859 748 239627 748 240395 748 241163 748 241931 748 242699 748 243467 748 244235 748 245003 748 245771 748 246539 748 247307 748 248075 748 248843 748 249611 748 250379 748 251147 748 251915 748 252683 748 253451 748 254219 748 254987 748 255755 748 256523 748 257291 748 258059 748 258827 748 259595 748 260363 748 261131 748 261899 748 262667 748 263435 748 264203 748 264971 748 265739 748 266507 748 267275 748 268043 748 268811 748 269579 748 270347 748 271115 748 271883 748 272651 748 273419 748 274187 748 274955 748 275723 748 276491 748 277259 748 278027 748 278795 748 279563 748 280331 748 281099 748 281867 748 282635 748 283403 748 284171 748 284939 748 285707 748 286475 748 287243 748 288011 748 288779 748 289547 748 290315 748 291083 748 291851 748 292619 748 293387 748 294155 748 294923 748 295691 748 296459 748 297227 748 297995 748 298763 748 299531 748 300299 748 301067 748 301835 748 302603 748 303371 748 304139 748 304907 748 305675 748 306443 748 307211 748 307979 748 308747 748 309515 748 310283 748 311051 748 311819 748 312587 748 313355 748 314123 748 314891 748 315659 748 316427 748 317195 748 317963 748 318731 748 319499 748 320267 748 321035 748 321803 748 322571 748 323339 748 324107 748 324875 748 325643 748 326411 748 327179 748 327947 748 328715 748 329483 748 330251 748 331019 748 331787 748 332555 748 333323 748 334091 748 334859 748 335627 748 336395 748 337163 748 337931 748 338699 748 339467 748 340235 748 341003 748 341771 748 342539 748 343307 748 344075 748 344843 748 345611 748 346379 748 347147 748 347915 748 348683 748 349451 748 350219 748 350987 748 351755 748 352523 748 353291 748 354059 748 354827 748 355595 748 356363 748 357131 748 357899 748 358667 748 359435 748 360203 748 360971 748 361739 748 362507 748 363275 748 364043 748 364811 748 365579 748 366347 748 367115 748 367883 748 368651 748 369419 748 370187 748 370955 748 371723 748 372491 748 373259 748 374027 748 374795 748 375563 748 376331 748 377099 748 377867 748 378635 748 379403 748 380171 748 380939 748 381707 748 382475 748 383243 748 384011 748 384779 748 385547 748 386315 748 387083 748 387851 748 388619 748 389387 748 390155 748 390923 748 391691 748 392459 748 393227 748 393995 748 394763 748 395531 748 396299 748 397067 748 397835 748 398603 748 399371 748 400139 748 400907 748 401675 748 402443 748 403211 748 403979 748 404747 748 405515 748 406283 748 407051 748 407819 748 408587 748 409355 748 410123 748 410891 748 411659 748 412427 748 413195 748 413963 748 414731 748 415499 748 416267 748 417035 748 417803 748 418571 748 419339 748 420107 748 420875 748 421643 748 422411 748 423179 748 423947 748 424715 748 425483 748 426251 748 427019 748 427787 748 428555 748 429323 748 430091 748 430859 748 431627 748 432395 748 433163 748 433931 748 434699 748 435467 748 436235 748 437003 748 437771 748 438539 748 439307 748 440075 748 440843 748 441611 748 442379 748 443147 748 443915 748 444683 748 445451 748 446219 748 446987 748 447755 748 448523 748 449291 748 450059 748 450827 748 451595 748 452363 748 453131 748 453899 748 454667 748 455435 748 456203 748 456971 748 457739 748 458507 748 459275 748 460043 748 460811 748 461579 748 462347 748 463115 748 463883 748 464651 748 465419 748 466187 748 466955 748 467723 748 468491 748 469259 748 470027 748 470795 748 471563 748 472331 748 473099 748 473867 748 474635 748 475403 748 476171 748 476939 748 477707 748 478475 748 479243 748 480011 748 480779 748 481547 748 482315 748 483083 748 483851 748 484619 748 485387 748 486155 748 486923 748 487691 748 488459 748 489227 748 489995 748 490763 748 491531 748 492299 748 493067 748 493835 748 494603 748 495371 748 496139 748 496907 748 497675 748 498443 748 499211 748 499979 748 500747 748 501515 748 502283 748 503051 748 503819 748 504587 748 505355 748 506123 748 506891 748 507659 748 508427 748 509195 748 509963 748 510731 748 511499 748 512267 748 513035 748 513803 748 514571 748 515339 748 516107 748 516875 748 517643 748 518411 748 519179 748 519947 748 520715 748 521483 748 522251 748 523019 748 523787 748 524555 748 525323 748 526091 748 526859 748 527627 748 528395 748 529163 748 529931 748 530699 748 531467 748 532235 748 533003 748 533771 748 534539 748 535307 748 536075 748 536843 748 537611 748 538379 748 539147 748 539915 748 540683 748 541451 748 542219 748 542987 748 543755 748 544523 748 545291 748 546059 748 546827 748 547595 748 548363 748 549131 748 549899 748 550667 748 551435 748 552203 748 552971 748 553739 748 554507 748 555275 748 556043 748 556811 748 557579 748 558347 748 559115 748 559883 748 560651 748 561419 748 562187 748 562955 748 563723 748 564491 748 565259 748 566027 748 566795 748 567563 748 568331 748 569099 748 569867 748 570635 748 571403 748 572171 748 572939 748 573707 748 574475 748 575243 748 576011 748 576779 748 577547 748 578315 748 579083 748 579851 748 580619 748 581387 748',\n",
       " None,\n",
       " '7691 748 8459 748 9227 748 9995 748 10763 748 11531 748 12299 748 13067 748 13835 748 14603 748 15371 748 16139 748 16907 748 17675 748 18443 748 19211 748 19979 748 20747 748 21515 748 22283 748 23051 748 23819 748 24587 748 25355 748 26123 748 26891 748 27659 748 28427 748 29195 748 29963 748 30731 748 31499 748 32267 748 33035 748 33803 748 34571 748 35339 748 36107 748 36875 748 37643 748 38411 748 39179 748 39947 748 40715 748 41483 748 42251 748 43019 748 43787 748 44555 748 45323 748 46091 748 46859 748 47627 748 48395 748 49163 748 49931 748 50699 748 51467 748 52235 748 53003 748 53771 748 54539 748 55307 748 56075 748 56843 748 57611 748 58379 748 59147 748 59915 748 60683 748 61451 748 62219 748 62987 748 63755 748 64523 748 65291 748 66059 748 66827 748 67595 748 68363 748 69131 748 69899 748 70667 748 71435 748 72203 748 72971 748 73739 748 74507 748 75275 748 76043 748 76811 748 77579 748 78347 748 79115 748 79883 748 80651 748 81419 748 82187 748 82955 748 83723 748 84491 748 85259 748 86027 748 86795 748 87563 748 88331 748 89099 748 89867 748 90635 748 91403 748 92171 748 92939 748 93707 748 94475 748 95243 748 96011 748 96779 748 97547 748 98315 748 99083 748 99851 748 100619 748 101387 748 102155 748 102923 748 103691 748 104459 748 105227 748 105995 748 106763 748 107531 748 108299 748 109067 748 109835 748 110603 748 111371 748 112139 748 112907 748 113675 748 114443 748 115211 748 115979 748 116747 748 117515 748 118283 748 119051 748 119819 748 120587 748 121355 748 122123 748 122891 748 123659 748 124427 748 125195 748 125963 748 126731 748 127499 748 128267 748 129035 748 129803 748 130571 748 131339 748 132107 748 132875 748 133643 748 134411 748 135179 748 135947 748 136715 748 137483 748 138251 748 139019 748 139787 748 140555 748 141323 748 142091 748 142859 748 143627 748 144395 748 145163 748 145931 748 146699 748 147467 748 148235 748 149003 748 149771 748 150539 748 151307 748 152075 748 152843 748 153611 748 154379 748 155147 748 155915 748 156683 748 157451 748 158219 748 158987 748 159755 748 160523 748 161291 748 162059 748 162827 748 163595 748 164363 748 165131 748 165899 748 166667 748 167435 748 168203 748 168971 748 169739 748 170507 748 171275 748 172043 748 172811 748 173579 748 174347 748 175115 748 175883 748 176651 748 177419 748 178187 748 178955 748 179723 748 180491 748 181259 748 182027 748 182795 748 183563 748 184331 748 185099 748 185867 748 186635 748 187403 748 188171 748 188939 748 189707 748 190475 748 191243 748 192011 748 192779 748 193547 748 194315 748 195083 748 195851 748 196619 748 197387 748 198155 748 198923 748 199691 748 200459 748 201227 748 201995 748 202763 748 203531 748 204299 748 205067 748 205835 748 206603 748 207371 748 208139 748 208907 748 209675 748 210443 748 211211 748 211979 748 212747 748 213515 748 214283 748 215051 748 215819 748 216587 748 217355 748 218123 748 218891 748 219659 748 220427 748 221195 748 221963 748 222731 748 223499 748 224267 748 225035 748 225803 748 226571 748 227339 748 228107 748 228875 748 229643 748 230411 748 231179 748 231947 748 232715 748 233483 748 234251 748 235019 748 235787 748 236555 748 237323 748 238091 748 238859 748 239627 748 240395 748 241163 748 241931 748 242699 748 243467 748 244235 748 245003 748 245771 748 246539 748 247307 748 248075 748 248843 748 249611 748 250379 748 251147 748 251915 748 252683 748 253451 748 254219 748 254987 748 255755 748 256523 748 257291 748 258059 748 258827 748 259595 748 260363 748 261131 748 261899 748 262667 748 263435 748 264203 748 264971 748 265739 748 266507 748 267275 748 268043 748 268811 748 269579 748 270347 748 271115 748 271883 748 272651 748 273419 748 274187 748 274955 748 275723 748 276491 748 277259 748 278027 748 278795 748 279563 748 280331 748 281099 748 281867 748 282635 748 283403 748 284171 748 284939 748 285707 748 286475 748 287243 748 288011 748 288779 748 289547 748 290315 748 291083 748 291851 748 292619 748 293387 748 294155 748 294923 748 295691 748 296459 748 297227 748 297995 748 298763 748 299531 748 300299 748 301067 748 301835 748 302603 748 303371 748 304139 748 304907 748 305675 748 306443 748 307211 748 307979 748 308747 748 309515 748 310283 748 311051 748 311819 748 312587 748 313355 748 314123 748 314891 748 315659 748 316427 748 317195 748 317963 748 318731 748 319499 748 320267 748 321035 748 321803 748 322571 748 323339 748 324107 748 324875 748 325643 748 326411 748 327179 748 327947 748 328715 748 329483 748 330251 748 331019 748 331787 748 332555 748 333323 748 334091 748 334859 748 335627 748 336395 748 337163 748 337931 748 338699 748 339467 748 340235 748 341003 748 341771 748 342539 748 343307 748 344075 748 344843 748 345611 748 346379 748 347147 748 347915 748 348683 748 349451 748 350219 748 350987 748 351755 748 352523 748 353291 748 354059 748 354827 748 355595 748 356363 748 357131 748 357899 748 358667 748 359435 748 360203 748 360971 748 361739 748 362507 748 363275 748 364043 748 364811 748 365579 748 366347 748 367115 748 367883 748 368651 748 369419 748 370187 748 370955 748 371723 748 372491 748 373259 748 374027 748 374795 748 375563 748 376331 748 377099 748 377867 748 378635 748 379403 748 380171 748 380939 748 381707 748 382475 748 383243 748 384011 748 384779 748 385547 748 386315 748 387083 748 387851 748 388619 748 389387 748 390155 748 390923 748 391691 748 392459 748 393227 748 393995 748 394763 748 395531 748 396299 748 397067 748 397835 748 398603 748 399371 748 400139 748 400907 748 401675 748 402443 748 403211 748 403979 748 404747 748 405515 748 406283 748 407051 748 407819 748 408587 748 409355 748 410123 748 410891 748 411659 748 412427 748 413195 748 413963 748 414731 748 415499 748 416267 748 417035 748 417803 748 418571 748 419339 748 420107 748 420875 748 421643 748 422411 748 423179 748 423947 748 424715 748 425483 748 426251 748 427019 748 427787 748 428555 748 429323 748 430091 748 430859 748 431627 748 432395 748 433163 748 433931 748 434699 748 435467 748 436235 748 437003 748 437771 748 438539 748 439307 748 440075 748 440843 748 441611 748 442379 748 443147 748 443915 748 444683 748 445451 748 446219 748 446987 748 447755 748 448523 748 449291 748 450059 748 450827 748 451595 748 452363 748 453131 748 453899 748 454667 748 455435 748 456203 748 456971 748 457739 748 458507 748 459275 748 460043 748 460811 748 461579 748 462347 748 463115 748 463883 748 464651 748 465419 748 466187 748 466955 748 467723 748 468491 748 469259 748 470027 748 470795 748 471563 748 472331 748 473099 748 473867 748 474635 748 475403 748 476171 748 476939 748 477707 748 478475 748 479243 748 480011 748 480779 748 481547 748 482315 748 483083 748 483851 748 484619 748 485387 748 486155 748 486923 748 487691 748 488459 748 489227 748 489995 748 490763 748 491531 748 492299 748 493067 748 493835 748 494603 748 495371 748 496139 748 496907 748 497675 748 498443 748 499211 748 499979 748 500747 748 501515 748 502283 748 503051 748 503819 748 504587 748 505355 748 506123 748 506891 748 507659 748 508427 748 509195 748 509963 748 510731 748 511499 748 512267 748 513035 748 513803 748 514571 748 515339 748 516107 748 516875 748 517643 748 518411 748 519179 748 519947 748 520715 748 521483 748 522251 748 523019 748 523787 748 524555 748 525323 748 526091 748 526859 748 527627 748 528395 748 529163 748 529931 748 530699 748 531467 748 532235 748 533003 748 533771 748 534539 748 535307 748 536075 748 536843 748 537611 748 538379 748 539147 748 539915 748 540683 748 541451 748 542219 748 542987 748 543755 748 544523 748 545291 748 546059 748 546827 748 547595 748 548363 748 549131 748 549899 748 550667 748 551435 748 552203 748 552971 748 553739 748 554507 748 555275 748 556043 748 556811 748 557579 748 558347 748 559115 748 559883 748 560651 748 561419 748 562187 748 562955 748 563723 748 564491 748 565259 748 566027 748 566795 748 567563 748 568331 748 569099 748 569867 748 570635 748 571403 748 572171 748 572939 748 573707 748 574475 748 575243 748 576011 748 576779 748 577547 748 578315 748 579083 748 579851 748 580619 748 581387 748',\n",
       " None,\n",
       " None,\n",
       " None,\n",
       " None,\n",
       " '7691 748 8459 748 9227 748 9995 748 10763 748 11531 748 12299 748 13067 748 13835 748 14603 748 15371 748 16139 748 16907 748 17675 748 18443 748 19211 748 19979 748 20747 748 21515 748 22283 748 23051 748 23819 748 24587 748 25355 748 26123 748 26891 748 27659 748 28427 748 29195 748 29963 748 30731 748 31499 748 32267 748 33035 748 33803 748 34571 748 35339 748 36107 748 36875 748 37643 748 38411 748 39179 748 39947 748 40715 748 41483 748 42251 748 43019 748 43787 748 44555 748 45323 748 46091 748 46859 748 47627 748 48395 748 49163 748 49931 748 50699 748 51467 748 52235 748 53003 748 53771 748 54539 748 55307 748 56075 748 56843 748 57611 748 58379 748 59147 748 59915 748 60683 748 61451 748 62219 748 62987 748 63755 748 64523 748 65291 748 66059 748 66827 748 67595 748 68363 748 69131 748 69899 748 70667 748 71435 748 72203 748 72971 748 73739 748 74507 748 75275 748 76043 748 76811 748 77579 748 78347 748 79115 748 79883 748 80651 748 81419 748 82187 748 82955 748 83723 748 84491 748 85259 748 86027 748 86795 748 87563 748 88331 748 89099 748 89867 748 90635 748 91403 748 92171 748 92939 748 93707 748 94475 748 95243 748 96011 748 96779 748 97547 748 98315 748 99083 748 99851 748 100619 748 101387 748 102155 748 102923 748 103691 748 104459 748 105227 748 105995 748 106763 748 107531 748 108299 748 109067 748 109835 748 110603 748 111371 748 112139 748 112907 748 113675 748 114443 748 115211 748 115979 748 116747 748 117515 748 118283 748 119051 748 119819 748 120587 748 121355 748 122123 748 122891 748 123659 748 124427 748 125195 748 125963 748 126731 748 127499 748 128267 748 129035 748 129803 748 130571 748 131339 748 132107 748 132875 748 133643 748 134411 748 135179 748 135947 748 136715 748 137483 748 138251 748 139019 748 139787 748 140555 748 141323 748 142091 748 142859 748 143627 748 144395 748 145163 748 145931 748 146699 748 147467 748 148235 748 149003 748 149771 748 150539 748 151307 748 152075 748 152843 748 153611 748 154379 748 155147 748 155915 748 156683 748 157451 748 158219 748 158987 748 159755 748 160523 748 161291 748 162059 748 162827 748 163595 748 164363 748 165131 748 165899 748 166667 748 167435 748 168203 748 168971 748 169739 748 170507 748 171275 748 172043 748 172811 748 173579 748 174347 748 175115 748 175883 748 176651 748 177419 748 178187 748 178955 748 179723 748 180491 748 181259 748 182027 748 182795 748 183563 748 184331 748 185099 748 185867 748 186635 748 187403 748 188171 748 188939 748 189707 748 190475 748 191243 748 192011 748 192779 748 193547 748 194315 748 195083 748 195851 748 196619 748 197387 748 198155 748 198923 748 199691 748 200459 748 201227 748 201995 748 202763 748 203531 748 204299 748 205067 748 205835 748 206603 748 207371 748 208139 748 208907 748 209675 748 210443 748 211211 748 211979 748 212747 748 213515 748 214283 748 215051 748 215819 748 216587 748 217355 748 218123 748 218891 748 219659 748 220427 748 221195 748 221963 748 222731 748 223499 748 224267 748 225035 748 225803 748 226571 748 227339 748 228107 748 228875 748 229643 748 230411 748 231179 748 231947 748 232715 748 233483 748 234251 748 235019 748 235787 748 236555 748 237323 748 238091 748 238859 748 239627 748 240395 748 241163 748 241931 748 242699 748 243467 748 244235 748 245003 748 245771 748 246539 748 247307 748 248075 748 248843 748 249611 748 250379 748 251147 748 251915 748 252683 748 253451 748 254219 748 254987 748 255755 748 256523 748 257291 748 258059 748 258827 748 259595 748 260363 748 261131 748 261899 748 262667 748 263435 748 264203 748 264971 748 265739 748 266507 748 267275 748 268043 748 268811 748 269579 748 270347 748 271115 748 271883 748 272651 748 273419 748 274187 748 274955 748 275723 748 276491 748 277259 748 278027 748 278795 748 279563 748 280331 748 281099 748 281867 748 282635 748 283403 748 284171 748 284939 748 285707 748 286475 748 287243 748 288011 748 288779 748 289547 748 290315 748 291083 748 291851 748 292619 748 293387 748 294155 748 294923 748 295691 748 296459 748 297227 748 297995 748 298763 748 299531 748 300299 748 301067 748 301835 748 302603 748 303371 748 304139 748 304907 748 305675 748 306443 748 307211 748 307979 748 308747 748 309515 748 310283 748 311051 748 311819 748 312587 748 313355 748 314123 748 314891 748 315659 748 316427 748 317195 748 317963 748 318731 748 319499 748 320267 748 321035 748 321803 748 322571 748 323339 748 324107 748 324875 748 325643 748 326411 748 327179 748 327947 748 328715 748 329483 748 330251 748 331019 748 331787 748 332555 748 333323 748 334091 748 334859 748 335627 748 336395 748 337163 748 337931 748 338699 748 339467 748 340235 748 341003 748 341771 748 342539 748 343307 748 344075 748 344843 748 345611 748 346379 748 347147 748 347915 748 348683 748 349451 748 350219 748 350987 748 351755 748 352523 748 353291 748 354059 748 354827 748 355595 748 356363 748 357131 748 357899 748 358667 748 359435 748 360203 748 360971 748 361739 748 362507 748 363275 748 364043 748 364811 748 365579 748 366347 748 367115 748 367883 748 368651 748 369419 748 370187 748 370955 748 371723 748 372491 748 373259 748 374027 748 374795 748 375563 748 376331 748 377099 748 377867 748 378635 748 379403 748 380171 748 380939 748 381707 748 382475 748 383243 748 384011 748 384779 748 385547 748 386315 748 387083 748 387851 748 388619 748 389387 748 390155 748 390923 748 391691 748 392459 748 393227 748 393995 748 394763 748 395531 748 396299 748 397067 748 397835 748 398603 748 399371 748 400139 748 400907 748 401675 748 402443 748 403211 748 403979 748 404747 748 405515 748 406283 748 407051 748 407819 748 408587 748 409355 748 410123 748 410891 748 411659 748 412427 748 413195 748 413963 748 414731 748 415499 748 416267 748 417035 748 417803 748 418571 748 419339 748 420107 748 420875 748 421643 748 422411 748 423179 748 423947 748 424715 748 425483 748 426251 748 427019 748 427787 748 428555 748 429323 748 430091 748 430859 748 431627 748 432395 748 433163 748 433931 748 434699 748 435467 748 436235 748 437003 748 437771 748 438539 748 439307 748 440075 748 440843 748 441611 748 442379 748 443147 748 443915 748 444683 748 445451 748 446219 748 446987 748 447755 748 448523 748 449291 748 450059 748 450827 748 451595 748 452363 748 453131 748 453899 748 454667 748 455435 748 456203 748 456971 748 457739 748 458507 748 459275 748 460043 748 460811 748 461579 748 462347 748 463115 748 463883 748 464651 748 465419 748 466187 748 466955 748 467723 748 468491 748 469259 748 470027 748 470795 748 471563 748 472331 748 473099 748 473867 748 474635 748 475403 748 476171 748 476939 748 477707 748 478475 748 479243 748 480011 748 480779 748 481547 748 482315 748 483083 748 483851 748 484619 748 485387 748 486155 748 486923 748 487691 748 488459 748 489227 748 489995 748 490763 748 491531 748 492299 748 493067 748 493835 748 494603 748 495371 748 496139 748 496907 748 497675 748 498443 748 499211 748 499979 748 500747 748 501515 748 502283 748 503051 748 503819 748 504587 748 505355 748 506123 748 506891 748 507659 748 508427 748 509195 748 509963 748 510731 748 511499 748 512267 748 513035 748 513803 748 514571 748 515339 748 516107 748 516875 748 517643 748 518411 748 519179 748 519947 748 520715 748 521483 748 522251 748 523019 748 523787 748 524555 748 525323 748 526091 748 526859 748 527627 748 528395 748 529163 748 529931 748 530699 748 531467 748 532235 748 533003 748 533771 748 534539 748 535307 748 536075 748 536843 748 537611 748 538379 748 539147 748 539915 748 540683 748 541451 748 542219 748 542987 748 543755 748 544523 748 545291 748 546059 748 546827 748 547595 748 548363 748 549131 748 549899 748 550667 748 551435 748 552203 748 552971 748 553739 748 554507 748 555275 748 556043 748 556811 748 557579 748 558347 748 559115 748 559883 748 560651 748 561419 748 562187 748 562955 748 563723 748 564491 748 565259 748 566027 748 566795 748 567563 748 568331 748 569099 748 569867 748 570635 748 571403 748 572171 748 572939 748 573707 748 574475 748 575243 748 576011 748 576779 748 577547 748 578315 748 579083 748 579851 748 580619 748 581387 748',\n",
       " None]"
      ]
     },
     "execution_count": 177,
     "metadata": {},
     "output_type": "execute_result"
    }
   ],
   "source": [
    "preds[:10]"
   ]
  },
  {
   "cell_type": "code",
   "execution_count": 178,
   "metadata": {},
   "outputs": [
    {
     "data": {
      "text/plain": [
       "['1c1a63015.jpg',\n",
       " '05cf6c026.jpg',\n",
       " 'bd8405c05.jpg',\n",
       " '29b46cda8.jpg',\n",
       " '4d045477e.jpg']"
      ]
     },
     "execution_count": 178,
     "metadata": {},
     "output_type": "execute_result"
    }
   ],
   "source": [
    "d=test_v2[:5]\n",
    "d"
   ]
  },
  {
   "cell_type": "code",
   "execution_count": 179,
   "metadata": {},
   "outputs": [],
   "source": [
    "res = np.column_stack((test_v2, preds))"
   ]
  },
  {
   "cell_type": "code",
   "execution_count": 180,
   "metadata": {},
   "outputs": [
    {
     "data": {
      "text/plain": [
       "array([['1c1a63015.jpg', None],\n",
       "       ['05cf6c026.jpg',\n",
       "        '7691 748 8459 748 9227 748 9995 748 10763 748 11531 748 12299 748 13067 748 13835 748 14603 748 15371 748 16139 748 16907 748 17675 748 18443 748 19211 748 19979 748 20747 748 21515 748 22283 748 23051 748 23819 748 24587 748 25355 748 26123 748 26891 748 27659 748 28427 748 29195 748 29963 748 30731 748 31499 748 32267 748 33035 748 33803 748 34571 748 35339 748 36107 748 36875 748 37643 748 38411 748 39179 748 39947 748 40715 748 41483 748 42251 748 43019 748 43787 748 44555 748 45323 748 46091 748 46859 748 47627 748 48395 748 49163 748 49931 748 50699 748 51467 748 52235 748 53003 748 53771 748 54539 748 55307 748 56075 748 56843 748 57611 748 58379 748 59147 748 59915 748 60683 748 61451 748 62219 748 62987 748 63755 748 64523 748 65291 748 66059 748 66827 748 67595 748 68363 748 69131 748 69899 748 70667 748 71435 748 72203 748 72971 748 73739 748 74507 748 75275 748 76043 748 76811 748 77579 748 78347 748 79115 748 79883 748 80651 748 81419 748 82187 748 82955 748 83723 748 84491 748 85259 748 86027 748 86795 748 87563 748 88331 748 89099 748 89867 748 90635 748 91403 748 92171 748 92939 748 93707 748 94475 748 95243 748 96011 748 96779 748 97547 748 98315 748 99083 748 99851 748 100619 748 101387 748 102155 748 102923 748 103691 748 104459 748 105227 748 105995 748 106763 748 107531 748 108299 748 109067 748 109835 748 110603 748 111371 748 112139 748 112907 748 113675 748 114443 748 115211 748 115979 748 116747 748 117515 748 118283 748 119051 748 119819 748 120587 748 121355 748 122123 748 122891 748 123659 748 124427 748 125195 748 125963 748 126731 748 127499 748 128267 748 129035 748 129803 748 130571 748 131339 748 132107 748 132875 748 133643 748 134411 748 135179 748 135947 748 136715 748 137483 748 138251 748 139019 748 139787 748 140555 748 141323 748 142091 748 142859 748 143627 748 144395 748 145163 748 145931 748 146699 748 147467 748 148235 748 149003 748 149771 748 150539 748 151307 748 152075 748 152843 748 153611 748 154379 748 155147 748 155915 748 156683 748 157451 748 158219 748 158987 748 159755 748 160523 748 161291 748 162059 748 162827 748 163595 748 164363 748 165131 748 165899 748 166667 748 167435 748 168203 748 168971 748 169739 748 170507 748 171275 748 172043 748 172811 748 173579 748 174347 748 175115 748 175883 748 176651 748 177419 748 178187 748 178955 748 179723 748 180491 748 181259 748 182027 748 182795 748 183563 748 184331 748 185099 748 185867 748 186635 748 187403 748 188171 748 188939 748 189707 748 190475 748 191243 748 192011 748 192779 748 193547 748 194315 748 195083 748 195851 748 196619 748 197387 748 198155 748 198923 748 199691 748 200459 748 201227 748 201995 748 202763 748 203531 748 204299 748 205067 748 205835 748 206603 748 207371 748 208139 748 208907 748 209675 748 210443 748 211211 748 211979 748 212747 748 213515 748 214283 748 215051 748 215819 748 216587 748 217355 748 218123 748 218891 748 219659 748 220427 748 221195 748 221963 748 222731 748 223499 748 224267 748 225035 748 225803 748 226571 748 227339 748 228107 748 228875 748 229643 748 230411 748 231179 748 231947 748 232715 748 233483 748 234251 748 235019 748 235787 748 236555 748 237323 748 238091 748 238859 748 239627 748 240395 748 241163 748 241931 748 242699 748 243467 748 244235 748 245003 748 245771 748 246539 748 247307 748 248075 748 248843 748 249611 748 250379 748 251147 748 251915 748 252683 748 253451 748 254219 748 254987 748 255755 748 256523 748 257291 748 258059 748 258827 748 259595 748 260363 748 261131 748 261899 748 262667 748 263435 748 264203 748 264971 748 265739 748 266507 748 267275 748 268043 748 268811 748 269579 748 270347 748 271115 748 271883 748 272651 748 273419 748 274187 748 274955 748 275723 748 276491 748 277259 748 278027 748 278795 748 279563 748 280331 748 281099 748 281867 748 282635 748 283403 748 284171 748 284939 748 285707 748 286475 748 287243 748 288011 748 288779 748 289547 748 290315 748 291083 748 291851 748 292619 748 293387 748 294155 748 294923 748 295691 748 296459 748 297227 748 297995 748 298763 748 299531 748 300299 748 301067 748 301835 748 302603 748 303371 748 304139 748 304907 748 305675 748 306443 748 307211 748 307979 748 308747 748 309515 748 310283 748 311051 748 311819 748 312587 748 313355 748 314123 748 314891 748 315659 748 316427 748 317195 748 317963 748 318731 748 319499 748 320267 748 321035 748 321803 748 322571 748 323339 748 324107 748 324875 748 325643 748 326411 748 327179 748 327947 748 328715 748 329483 748 330251 748 331019 748 331787 748 332555 748 333323 748 334091 748 334859 748 335627 748 336395 748 337163 748 337931 748 338699 748 339467 748 340235 748 341003 748 341771 748 342539 748 343307 748 344075 748 344843 748 345611 748 346379 748 347147 748 347915 748 348683 748 349451 748 350219 748 350987 748 351755 748 352523 748 353291 748 354059 748 354827 748 355595 748 356363 748 357131 748 357899 748 358667 748 359435 748 360203 748 360971 748 361739 748 362507 748 363275 748 364043 748 364811 748 365579 748 366347 748 367115 748 367883 748 368651 748 369419 748 370187 748 370955 748 371723 748 372491 748 373259 748 374027 748 374795 748 375563 748 376331 748 377099 748 377867 748 378635 748 379403 748 380171 748 380939 748 381707 748 382475 748 383243 748 384011 748 384779 748 385547 748 386315 748 387083 748 387851 748 388619 748 389387 748 390155 748 390923 748 391691 748 392459 748 393227 748 393995 748 394763 748 395531 748 396299 748 397067 748 397835 748 398603 748 399371 748 400139 748 400907 748 401675 748 402443 748 403211 748 403979 748 404747 748 405515 748 406283 748 407051 748 407819 748 408587 748 409355 748 410123 748 410891 748 411659 748 412427 748 413195 748 413963 748 414731 748 415499 748 416267 748 417035 748 417803 748 418571 748 419339 748 420107 748 420875 748 421643 748 422411 748 423179 748 423947 748 424715 748 425483 748 426251 748 427019 748 427787 748 428555 748 429323 748 430091 748 430859 748 431627 748 432395 748 433163 748 433931 748 434699 748 435467 748 436235 748 437003 748 437771 748 438539 748 439307 748 440075 748 440843 748 441611 748 442379 748 443147 748 443915 748 444683 748 445451 748 446219 748 446987 748 447755 748 448523 748 449291 748 450059 748 450827 748 451595 748 452363 748 453131 748 453899 748 454667 748 455435 748 456203 748 456971 748 457739 748 458507 748 459275 748 460043 748 460811 748 461579 748 462347 748 463115 748 463883 748 464651 748 465419 748 466187 748 466955 748 467723 748 468491 748 469259 748 470027 748 470795 748 471563 748 472331 748 473099 748 473867 748 474635 748 475403 748 476171 748 476939 748 477707 748 478475 748 479243 748 480011 748 480779 748 481547 748 482315 748 483083 748 483851 748 484619 748 485387 748 486155 748 486923 748 487691 748 488459 748 489227 748 489995 748 490763 748 491531 748 492299 748 493067 748 493835 748 494603 748 495371 748 496139 748 496907 748 497675 748 498443 748 499211 748 499979 748 500747 748 501515 748 502283 748 503051 748 503819 748 504587 748 505355 748 506123 748 506891 748 507659 748 508427 748 509195 748 509963 748 510731 748 511499 748 512267 748 513035 748 513803 748 514571 748 515339 748 516107 748 516875 748 517643 748 518411 748 519179 748 519947 748 520715 748 521483 748 522251 748 523019 748 523787 748 524555 748 525323 748 526091 748 526859 748 527627 748 528395 748 529163 748 529931 748 530699 748 531467 748 532235 748 533003 748 533771 748 534539 748 535307 748 536075 748 536843 748 537611 748 538379 748 539147 748 539915 748 540683 748 541451 748 542219 748 542987 748 543755 748 544523 748 545291 748 546059 748 546827 748 547595 748 548363 748 549131 748 549899 748 550667 748 551435 748 552203 748 552971 748 553739 748 554507 748 555275 748 556043 748 556811 748 557579 748 558347 748 559115 748 559883 748 560651 748 561419 748 562187 748 562955 748 563723 748 564491 748 565259 748 566027 748 566795 748 567563 748 568331 748 569099 748 569867 748 570635 748 571403 748 572171 748 572939 748 573707 748 574475 748 575243 748 576011 748 576779 748 577547 748 578315 748 579083 748 579851 748 580619 748 581387 748'],\n",
       "       ['bd8405c05.jpg', None],\n",
       "       ['29b46cda8.jpg',\n",
       "        '7691 748 8459 748 9227 748 9995 748 10763 748 11531 748 12299 748 13067 748 13835 748 14603 748 15371 748 16139 748 16907 748 17675 748 18443 748 19211 748 19979 748 20747 748 21515 748 22283 748 23051 748 23819 748 24587 748 25355 748 26123 748 26891 748 27659 748 28427 748 29195 748 29963 748 30731 748 31499 748 32267 748 33035 748 33803 748 34571 748 35339 748 36107 748 36875 748 37643 748 38411 748 39179 748 39947 748 40715 748 41483 748 42251 748 43019 748 43787 748 44555 748 45323 748 46091 748 46859 748 47627 748 48395 748 49163 748 49931 748 50699 748 51467 748 52235 748 53003 748 53771 748 54539 748 55307 748 56075 748 56843 748 57611 748 58379 748 59147 748 59915 748 60683 748 61451 748 62219 748 62987 748 63755 748 64523 748 65291 748 66059 748 66827 748 67595 748 68363 748 69131 748 69899 748 70667 748 71435 748 72203 748 72971 748 73739 748 74507 748 75275 748 76043 748 76811 748 77579 748 78347 748 79115 748 79883 748 80651 748 81419 748 82187 748 82955 748 83723 748 84491 748 85259 748 86027 748 86795 748 87563 748 88331 748 89099 748 89867 748 90635 748 91403 748 92171 748 92939 748 93707 748 94475 748 95243 748 96011 748 96779 748 97547 748 98315 748 99083 748 99851 748 100619 748 101387 748 102155 748 102923 748 103691 748 104459 748 105227 748 105995 748 106763 748 107531 748 108299 748 109067 748 109835 748 110603 748 111371 748 112139 748 112907 748 113675 748 114443 748 115211 748 115979 748 116747 748 117515 748 118283 748 119051 748 119819 748 120587 748 121355 748 122123 748 122891 748 123659 748 124427 748 125195 748 125963 748 126731 748 127499 748 128267 748 129035 748 129803 748 130571 748 131339 748 132107 748 132875 748 133643 748 134411 748 135179 748 135947 748 136715 748 137483 748 138251 748 139019 748 139787 748 140555 748 141323 748 142091 748 142859 748 143627 748 144395 748 145163 748 145931 748 146699 748 147467 748 148235 748 149003 748 149771 748 150539 748 151307 748 152075 748 152843 748 153611 748 154379 748 155147 748 155915 748 156683 748 157451 748 158219 748 158987 748 159755 748 160523 748 161291 748 162059 748 162827 748 163595 748 164363 748 165131 748 165899 748 166667 748 167435 748 168203 748 168971 748 169739 748 170507 748 171275 748 172043 748 172811 748 173579 748 174347 748 175115 748 175883 748 176651 748 177419 748 178187 748 178955 748 179723 748 180491 748 181259 748 182027 748 182795 748 183563 748 184331 748 185099 748 185867 748 186635 748 187403 748 188171 748 188939 748 189707 748 190475 748 191243 748 192011 748 192779 748 193547 748 194315 748 195083 748 195851 748 196619 748 197387 748 198155 748 198923 748 199691 748 200459 748 201227 748 201995 748 202763 748 203531 748 204299 748 205067 748 205835 748 206603 748 207371 748 208139 748 208907 748 209675 748 210443 748 211211 748 211979 748 212747 748 213515 748 214283 748 215051 748 215819 748 216587 748 217355 748 218123 748 218891 748 219659 748 220427 748 221195 748 221963 748 222731 748 223499 748 224267 748 225035 748 225803 748 226571 748 227339 748 228107 748 228875 748 229643 748 230411 748 231179 748 231947 748 232715 748 233483 748 234251 748 235019 748 235787 748 236555 748 237323 748 238091 748 238859 748 239627 748 240395 748 241163 748 241931 748 242699 748 243467 748 244235 748 245003 748 245771 748 246539 748 247307 748 248075 748 248843 748 249611 748 250379 748 251147 748 251915 748 252683 748 253451 748 254219 748 254987 748 255755 748 256523 748 257291 748 258059 748 258827 748 259595 748 260363 748 261131 748 261899 748 262667 748 263435 748 264203 748 264971 748 265739 748 266507 748 267275 748 268043 748 268811 748 269579 748 270347 748 271115 748 271883 748 272651 748 273419 748 274187 748 274955 748 275723 748 276491 748 277259 748 278027 748 278795 748 279563 748 280331 748 281099 748 281867 748 282635 748 283403 748 284171 748 284939 748 285707 748 286475 748 287243 748 288011 748 288779 748 289547 748 290315 748 291083 748 291851 748 292619 748 293387 748 294155 748 294923 748 295691 748 296459 748 297227 748 297995 748 298763 748 299531 748 300299 748 301067 748 301835 748 302603 748 303371 748 304139 748 304907 748 305675 748 306443 748 307211 748 307979 748 308747 748 309515 748 310283 748 311051 748 311819 748 312587 748 313355 748 314123 748 314891 748 315659 748 316427 748 317195 748 317963 748 318731 748 319499 748 320267 748 321035 748 321803 748 322571 748 323339 748 324107 748 324875 748 325643 748 326411 748 327179 748 327947 748 328715 748 329483 748 330251 748 331019 748 331787 748 332555 748 333323 748 334091 748 334859 748 335627 748 336395 748 337163 748 337931 748 338699 748 339467 748 340235 748 341003 748 341771 748 342539 748 343307 748 344075 748 344843 748 345611 748 346379 748 347147 748 347915 748 348683 748 349451 748 350219 748 350987 748 351755 748 352523 748 353291 748 354059 748 354827 748 355595 748 356363 748 357131 748 357899 748 358667 748 359435 748 360203 748 360971 748 361739 748 362507 748 363275 748 364043 748 364811 748 365579 748 366347 748 367115 748 367883 748 368651 748 369419 748 370187 748 370955 748 371723 748 372491 748 373259 748 374027 748 374795 748 375563 748 376331 748 377099 748 377867 748 378635 748 379403 748 380171 748 380939 748 381707 748 382475 748 383243 748 384011 748 384779 748 385547 748 386315 748 387083 748 387851 748 388619 748 389387 748 390155 748 390923 748 391691 748 392459 748 393227 748 393995 748 394763 748 395531 748 396299 748 397067 748 397835 748 398603 748 399371 748 400139 748 400907 748 401675 748 402443 748 403211 748 403979 748 404747 748 405515 748 406283 748 407051 748 407819 748 408587 748 409355 748 410123 748 410891 748 411659 748 412427 748 413195 748 413963 748 414731 748 415499 748 416267 748 417035 748 417803 748 418571 748 419339 748 420107 748 420875 748 421643 748 422411 748 423179 748 423947 748 424715 748 425483 748 426251 748 427019 748 427787 748 428555 748 429323 748 430091 748 430859 748 431627 748 432395 748 433163 748 433931 748 434699 748 435467 748 436235 748 437003 748 437771 748 438539 748 439307 748 440075 748 440843 748 441611 748 442379 748 443147 748 443915 748 444683 748 445451 748 446219 748 446987 748 447755 748 448523 748 449291 748 450059 748 450827 748 451595 748 452363 748 453131 748 453899 748 454667 748 455435 748 456203 748 456971 748 457739 748 458507 748 459275 748 460043 748 460811 748 461579 748 462347 748 463115 748 463883 748 464651 748 465419 748 466187 748 466955 748 467723 748 468491 748 469259 748 470027 748 470795 748 471563 748 472331 748 473099 748 473867 748 474635 748 475403 748 476171 748 476939 748 477707 748 478475 748 479243 748 480011 748 480779 748 481547 748 482315 748 483083 748 483851 748 484619 748 485387 748 486155 748 486923 748 487691 748 488459 748 489227 748 489995 748 490763 748 491531 748 492299 748 493067 748 493835 748 494603 748 495371 748 496139 748 496907 748 497675 748 498443 748 499211 748 499979 748 500747 748 501515 748 502283 748 503051 748 503819 748 504587 748 505355 748 506123 748 506891 748 507659 748 508427 748 509195 748 509963 748 510731 748 511499 748 512267 748 513035 748 513803 748 514571 748 515339 748 516107 748 516875 748 517643 748 518411 748 519179 748 519947 748 520715 748 521483 748 522251 748 523019 748 523787 748 524555 748 525323 748 526091 748 526859 748 527627 748 528395 748 529163 748 529931 748 530699 748 531467 748 532235 748 533003 748 533771 748 534539 748 535307 748 536075 748 536843 748 537611 748 538379 748 539147 748 539915 748 540683 748 541451 748 542219 748 542987 748 543755 748 544523 748 545291 748 546059 748 546827 748 547595 748 548363 748 549131 748 549899 748 550667 748 551435 748 552203 748 552971 748 553739 748 554507 748 555275 748 556043 748 556811 748 557579 748 558347 748 559115 748 559883 748 560651 748 561419 748 562187 748 562955 748 563723 748 564491 748 565259 748 566027 748 566795 748 567563 748 568331 748 569099 748 569867 748 570635 748 571403 748 572171 748 572939 748 573707 748 574475 748 575243 748 576011 748 576779 748 577547 748 578315 748 579083 748 579851 748 580619 748 581387 748'],\n",
       "       ['4d045477e.jpg', None]], dtype=object)"
      ]
     },
     "execution_count": 180,
     "metadata": {},
     "output_type": "execute_result"
    }
   ],
   "source": [
    "res[:5]"
   ]
  },
  {
   "cell_type": "code",
   "execution_count": 181,
   "metadata": {},
   "outputs": [
    {
     "name": "stdout",
     "output_type": "stream",
     "text": [
      "15606\n",
      "<class 'numpy.ndarray'>\n"
     ]
    }
   ],
   "source": [
    "print(len(res))\n",
    "print(type(res))"
   ]
  },
  {
   "cell_type": "code",
   "execution_count": 182,
   "metadata": {},
   "outputs": [],
   "source": [
    "import pandas as pd\n",
    "df = pd.DataFrame(res)\n",
    "#df.to_csv('submission_1000pic_20bat_2ep.csv')"
   ]
  },
  {
   "cell_type": "code",
   "execution_count": 183,
   "metadata": {},
   "outputs": [],
   "source": [
    "df.columns = ['ImageId', 'EncodedPixels']"
   ]
  },
  {
   "cell_type": "code",
   "execution_count": 184,
   "metadata": {},
   "outputs": [
    {
     "data": {
      "text/html": [
       "<div>\n",
       "<style scoped>\n",
       "    .dataframe tbody tr th:only-of-type {\n",
       "        vertical-align: middle;\n",
       "    }\n",
       "\n",
       "    .dataframe tbody tr th {\n",
       "        vertical-align: top;\n",
       "    }\n",
       "\n",
       "    .dataframe thead th {\n",
       "        text-align: right;\n",
       "    }\n",
       "</style>\n",
       "<table border=\"1\" class=\"dataframe\">\n",
       "  <thead>\n",
       "    <tr style=\"text-align: right;\">\n",
       "      <th></th>\n",
       "      <th>ImageId</th>\n",
       "      <th>EncodedPixels</th>\n",
       "    </tr>\n",
       "  </thead>\n",
       "  <tbody>\n",
       "    <tr>\n",
       "      <th>0</th>\n",
       "      <td>1c1a63015.jpg</td>\n",
       "      <td>None</td>\n",
       "    </tr>\n",
       "    <tr>\n",
       "      <th>1</th>\n",
       "      <td>05cf6c026.jpg</td>\n",
       "      <td>7691 748 8459 748 9227 748 9995 748 10763 748 ...</td>\n",
       "    </tr>\n",
       "    <tr>\n",
       "      <th>2</th>\n",
       "      <td>bd8405c05.jpg</td>\n",
       "      <td>None</td>\n",
       "    </tr>\n",
       "    <tr>\n",
       "      <th>3</th>\n",
       "      <td>29b46cda8.jpg</td>\n",
       "      <td>7691 748 8459 748 9227 748 9995 748 10763 748 ...</td>\n",
       "    </tr>\n",
       "    <tr>\n",
       "      <th>4</th>\n",
       "      <td>4d045477e.jpg</td>\n",
       "      <td>None</td>\n",
       "    </tr>\n",
       "  </tbody>\n",
       "</table>\n",
       "</div>"
      ],
      "text/plain": [
       "         ImageId                                      EncodedPixels\n",
       "0  1c1a63015.jpg                                               None\n",
       "1  05cf6c026.jpg  7691 748 8459 748 9227 748 9995 748 10763 748 ...\n",
       "2  bd8405c05.jpg                                               None\n",
       "3  29b46cda8.jpg  7691 748 8459 748 9227 748 9995 748 10763 748 ...\n",
       "4  4d045477e.jpg                                               None"
      ]
     },
     "execution_count": 184,
     "metadata": {},
     "output_type": "execute_result"
    }
   ],
   "source": [
    "df.head()"
   ]
  },
  {
   "cell_type": "code",
   "execution_count": 185,
   "metadata": {},
   "outputs": [],
   "source": [
    "df = df.sort_values(['ImageId'])"
   ]
  },
  {
   "cell_type": "code",
   "execution_count": 186,
   "metadata": {},
   "outputs": [
    {
     "data": {
      "text/html": [
       "<div>\n",
       "<style scoped>\n",
       "    .dataframe tbody tr th:only-of-type {\n",
       "        vertical-align: middle;\n",
       "    }\n",
       "\n",
       "    .dataframe tbody tr th {\n",
       "        vertical-align: top;\n",
       "    }\n",
       "\n",
       "    .dataframe thead th {\n",
       "        text-align: right;\n",
       "    }\n",
       "</style>\n",
       "<table border=\"1\" class=\"dataframe\">\n",
       "  <thead>\n",
       "    <tr style=\"text-align: right;\">\n",
       "      <th></th>\n",
       "      <th>ImageId</th>\n",
       "      <th>EncodedPixels</th>\n",
       "    </tr>\n",
       "  </thead>\n",
       "  <tbody>\n",
       "    <tr>\n",
       "      <th>13929</th>\n",
       "      <td>00002bd58.jpg</td>\n",
       "      <td>7691 748 8459 748 9227 748 9995 748 10763 748 ...</td>\n",
       "    </tr>\n",
       "    <tr>\n",
       "      <th>5742</th>\n",
       "      <td>00015efb6.jpg</td>\n",
       "      <td>None</td>\n",
       "    </tr>\n",
       "    <tr>\n",
       "      <th>8837</th>\n",
       "      <td>00023d5fc.jpg</td>\n",
       "      <td>7691 748 8459 748 9227 748 9995 748 10763 748 ...</td>\n",
       "    </tr>\n",
       "    <tr>\n",
       "      <th>12983</th>\n",
       "      <td>000367c13.jpg</td>\n",
       "      <td>7691 748 8459 748 9227 748 9995 748 10763 748 ...</td>\n",
       "    </tr>\n",
       "    <tr>\n",
       "      <th>1930</th>\n",
       "      <td>0008ca6e9.jpg</td>\n",
       "      <td>None</td>\n",
       "    </tr>\n",
       "  </tbody>\n",
       "</table>\n",
       "</div>"
      ],
      "text/plain": [
       "             ImageId                                      EncodedPixels\n",
       "13929  00002bd58.jpg  7691 748 8459 748 9227 748 9995 748 10763 748 ...\n",
       "5742   00015efb6.jpg                                               None\n",
       "8837   00023d5fc.jpg  7691 748 8459 748 9227 748 9995 748 10763 748 ...\n",
       "12983  000367c13.jpg  7691 748 8459 748 9227 748 9995 748 10763 748 ...\n",
       "1930   0008ca6e9.jpg                                               None"
      ]
     },
     "execution_count": 186,
     "metadata": {},
     "output_type": "execute_result"
    }
   ],
   "source": [
    "df.head()"
   ]
  },
  {
   "cell_type": "code",
   "execution_count": 187,
   "metadata": {},
   "outputs": [
    {
     "data": {
      "text/plain": [
       "(15606, 2)"
      ]
     },
     "execution_count": 187,
     "metadata": {},
     "output_type": "execute_result"
    }
   ],
   "source": [
    "df.shape"
   ]
  },
  {
   "cell_type": "code",
   "execution_count": 188,
   "metadata": {},
   "outputs": [],
   "source": [
    "df.drop_duplicates(subset='ImageId',keep=False,inplace=True)"
   ]
  },
  {
   "cell_type": "code",
   "execution_count": 189,
   "metadata": {},
   "outputs": [
    {
     "data": {
      "text/html": [
       "<div>\n",
       "<style scoped>\n",
       "    .dataframe tbody tr th:only-of-type {\n",
       "        vertical-align: middle;\n",
       "    }\n",
       "\n",
       "    .dataframe tbody tr th {\n",
       "        vertical-align: top;\n",
       "    }\n",
       "\n",
       "    .dataframe thead th {\n",
       "        text-align: right;\n",
       "    }\n",
       "</style>\n",
       "<table border=\"1\" class=\"dataframe\">\n",
       "  <thead>\n",
       "    <tr style=\"text-align: right;\">\n",
       "      <th></th>\n",
       "      <th>ImageId</th>\n",
       "      <th>EncodedPixels</th>\n",
       "    </tr>\n",
       "  </thead>\n",
       "  <tbody>\n",
       "    <tr>\n",
       "      <th>13929</th>\n",
       "      <td>00002bd58.jpg</td>\n",
       "      <td>7691 748 8459 748 9227 748 9995 748 10763 748 ...</td>\n",
       "    </tr>\n",
       "    <tr>\n",
       "      <th>5742</th>\n",
       "      <td>00015efb6.jpg</td>\n",
       "      <td>None</td>\n",
       "    </tr>\n",
       "    <tr>\n",
       "      <th>8837</th>\n",
       "      <td>00023d5fc.jpg</td>\n",
       "      <td>7691 748 8459 748 9227 748 9995 748 10763 748 ...</td>\n",
       "    </tr>\n",
       "    <tr>\n",
       "      <th>12983</th>\n",
       "      <td>000367c13.jpg</td>\n",
       "      <td>7691 748 8459 748 9227 748 9995 748 10763 748 ...</td>\n",
       "    </tr>\n",
       "    <tr>\n",
       "      <th>1930</th>\n",
       "      <td>0008ca6e9.jpg</td>\n",
       "      <td>None</td>\n",
       "    </tr>\n",
       "  </tbody>\n",
       "</table>\n",
       "</div>"
      ],
      "text/plain": [
       "             ImageId                                      EncodedPixels\n",
       "13929  00002bd58.jpg  7691 748 8459 748 9227 748 9995 748 10763 748 ...\n",
       "5742   00015efb6.jpg                                               None\n",
       "8837   00023d5fc.jpg  7691 748 8459 748 9227 748 9995 748 10763 748 ...\n",
       "12983  000367c13.jpg  7691 748 8459 748 9227 748 9995 748 10763 748 ...\n",
       "1930   0008ca6e9.jpg                                               None"
      ]
     },
     "execution_count": 189,
     "metadata": {},
     "output_type": "execute_result"
    }
   ],
   "source": [
    "df.head()"
   ]
  },
  {
   "cell_type": "code",
   "execution_count": 190,
   "metadata": {},
   "outputs": [
    {
     "data": {
      "text/plain": [
       "(15606, 2)"
      ]
     },
     "execution_count": 190,
     "metadata": {},
     "output_type": "execute_result"
    }
   ],
   "source": [
    "df.shape"
   ]
  },
  {
   "cell_type": "code",
   "execution_count": 191,
   "metadata": {},
   "outputs": [],
   "source": [
    "df.to_csv(\"submission_1000pic_20bat_2ep.csv\", index=False)"
   ]
  },
  {
   "cell_type": "code",
   "execution_count": 192,
   "metadata": {},
   "outputs": [
    {
     "data": {
      "text/html": [
       "<div>\n",
       "<style scoped>\n",
       "    .dataframe tbody tr th:only-of-type {\n",
       "        vertical-align: middle;\n",
       "    }\n",
       "\n",
       "    .dataframe tbody tr th {\n",
       "        vertical-align: top;\n",
       "    }\n",
       "\n",
       "    .dataframe thead th {\n",
       "        text-align: right;\n",
       "    }\n",
       "</style>\n",
       "<table border=\"1\" class=\"dataframe\">\n",
       "  <thead>\n",
       "    <tr style=\"text-align: right;\">\n",
       "      <th></th>\n",
       "      <th>a</th>\n",
       "      <th>b</th>\n",
       "      <th>c</th>\n",
       "    </tr>\n",
       "  </thead>\n",
       "  <tbody>\n",
       "    <tr>\n",
       "      <th>0</th>\n",
       "      <td>4</td>\n",
       "      <td>5</td>\n",
       "      <td>6</td>\n",
       "    </tr>\n",
       "    <tr>\n",
       "      <th>1</th>\n",
       "      <td>7</td>\n",
       "      <td>8</td>\n",
       "      <td>9</td>\n",
       "    </tr>\n",
       "    <tr>\n",
       "      <th>2</th>\n",
       "      <td>1</td>\n",
       "      <td>2</td>\n",
       "      <td>3</td>\n",
       "    </tr>\n",
       "  </tbody>\n",
       "</table>\n",
       "</div>"
      ],
      "text/plain": [
       "   a  b  c\n",
       "0  4  5  6\n",
       "1  7  8  9\n",
       "2  1  2  3"
      ]
     },
     "execution_count": 192,
     "metadata": {},
     "output_type": "execute_result"
    }
   ],
   "source": [
    "abc=pd.DataFrame([[4,5,6],[7,8,9],[1,2,3]])\n",
    "abc.columns = ['a','b','c']\n",
    "abc"
   ]
  },
  {
   "cell_type": "code",
   "execution_count": 193,
   "metadata": {},
   "outputs": [
    {
     "data": {
      "text/html": [
       "<div>\n",
       "<style scoped>\n",
       "    .dataframe tbody tr th:only-of-type {\n",
       "        vertical-align: middle;\n",
       "    }\n",
       "\n",
       "    .dataframe tbody tr th {\n",
       "        vertical-align: top;\n",
       "    }\n",
       "\n",
       "    .dataframe thead th {\n",
       "        text-align: right;\n",
       "    }\n",
       "</style>\n",
       "<table border=\"1\" class=\"dataframe\">\n",
       "  <thead>\n",
       "    <tr style=\"text-align: right;\">\n",
       "      <th></th>\n",
       "      <th>a</th>\n",
       "      <th>b</th>\n",
       "      <th>c</th>\n",
       "    </tr>\n",
       "  </thead>\n",
       "  <tbody>\n",
       "    <tr>\n",
       "      <th>2</th>\n",
       "      <td>1</td>\n",
       "      <td>2</td>\n",
       "      <td>3</td>\n",
       "    </tr>\n",
       "    <tr>\n",
       "      <th>0</th>\n",
       "      <td>4</td>\n",
       "      <td>5</td>\n",
       "      <td>6</td>\n",
       "    </tr>\n",
       "    <tr>\n",
       "      <th>1</th>\n",
       "      <td>7</td>\n",
       "      <td>8</td>\n",
       "      <td>9</td>\n",
       "    </tr>\n",
       "  </tbody>\n",
       "</table>\n",
       "</div>"
      ],
      "text/plain": [
       "   a  b  c\n",
       "2  1  2  3\n",
       "0  4  5  6\n",
       "1  7  8  9"
      ]
     },
     "execution_count": 193,
     "metadata": {},
     "output_type": "execute_result"
    }
   ],
   "source": [
    "abc=abc.sort_values(['a'])\n",
    "abc"
   ]
  },
  {
   "cell_type": "code",
   "execution_count": 194,
   "metadata": {},
   "outputs": [],
   "source": [
    "#takes too much time\n",
    "#numpy.savetxt(\"submissions_1000p_20b_2ep.csv\", res, delimiter=\",\")"
   ]
  },
  {
   "cell_type": "code",
   "execution_count": 195,
   "metadata": {
    "scrolled": true
   },
   "outputs": [
    {
     "data": {
      "text/plain": [
       "\"\\n# we call the predict method on our estimator\\n# this method will not return the entire prediction dataset at once but it returns a python generator \\n# which we can use to iterate through the predictions one by one\\n# first we initialize our generator\\ngenerator = cnn_classifier.predict(input_fn=predict_input_fn)\\n\\n# then we store all predictions into a list of dictionaries\\n# (dictionary from classes and probabilities which we defined in the model function)\\npredictions = [next(generator) for i in range(len(test_data))]\\n\\n# Kaggle are interested only in the classes predictions without the probabilities\\n# thus we get only the classes in a new list\\nclasses = [predictions[i]['classes'] for i in range(len(predictions))]\\n\\n# finally we write our predictions into a csv file\\ndef generate_submission_file(predictions, fileName):\\n    submission = pd.DataFrame()\\n    \\n    submission['ImageId'] = range(1,15606,1)\\n    submission['EncodedPixels'] = predictions\\n    submission.set_index('ImageId', inplace=True)\\n    submission.to_csv(fileName)\\n    \\n    print('Submission Ready!')\\n    \\ngenerate_submission_file(classes, 'submission_1000pic_20bat_2ep.csv')\\n\""
      ]
     },
     "execution_count": 195,
     "metadata": {},
     "output_type": "execute_result"
    }
   ],
   "source": [
    "\"\"\"\n",
    "# we call the predict method on our estimator\n",
    "# this method will not return the entire prediction dataset at once but it returns a python generator \n",
    "# which we can use to iterate through the predictions one by one\n",
    "# first we initialize our generator\n",
    "generator = cnn_classifier.predict(input_fn=predict_input_fn)\n",
    "\n",
    "# then we store all predictions into a list of dictionaries\n",
    "# (dictionary from classes and probabilities which we defined in the model function)\n",
    "predictions = [next(generator) for i in range(len(test_data))]\n",
    "\n",
    "# Kaggle are interested only in the classes predictions without the probabilities\n",
    "# thus we get only the classes in a new list\n",
    "classes = [predictions[i]['classes'] for i in range(len(predictions))]\n",
    "\n",
    "# finally we write our predictions into a csv file\n",
    "def generate_submission_file(predictions, fileName):\n",
    "    submission = pd.DataFrame()\n",
    "    \n",
    "    submission['ImageId'] = range(1,15606,1)\n",
    "    submission['EncodedPixels'] = predictions\n",
    "    submission.set_index('ImageId', inplace=True)\n",
    "    submission.to_csv(fileName)\n",
    "    \n",
    "    print('Submission Ready!')\n",
    "    \n",
    "generate_submission_file(classes, 'submission_1000pic_20bat_2ep.csv')\n",
    "\"\"\""
   ]
  },
  {
   "cell_type": "code",
   "execution_count": null,
   "metadata": {},
   "outputs": [],
   "source": []
  }
 ],
 "metadata": {
  "kernelspec": {
   "display_name": "Python 3",
   "language": "python",
   "name": "python3"
  },
  "language_info": {
   "codemirror_mode": {
    "name": "ipython",
    "version": 3
   },
   "file_extension": ".py",
   "mimetype": "text/x-python",
   "name": "python",
   "nbconvert_exporter": "python",
   "pygments_lexer": "ipython3",
   "version": "3.6.7"
  }
 },
 "nbformat": 4,
 "nbformat_minor": 2
}
